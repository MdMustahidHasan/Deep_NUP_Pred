{
  "nbformat": 4,
  "nbformat_minor": 0,
  "metadata": {
    "colab": {
      "provenance": [],
      "gpuType": "T4"
    },
    "kernelspec": {
      "name": "python3",
      "display_name": "Python 3"
    },
    "language_info": {
      "name": "python"
    },
    "accelerator": "GPU"
  },
  "cells": [
    {
      "cell_type": "markdown",
      "source": [],
      "metadata": {
        "id": "k06TQNlUgyOE"
      }
    },
    {
      "cell_type": "code",
      "execution_count": null,
      "metadata": {
        "id": "G3_KupOObwzg",
        "colab": {
          "base_uri": "https://localhost:8080/"
        },
        "outputId": "b0482b5b-05bf-433a-b92d-a6ebcd097912"
      },
      "outputs": [
        {
          "output_type": "stream",
          "name": "stdout",
          "text": [
            "Drive already mounted at /content/drive; to attempt to forcibly remount, call drive.mount(\"/content/drive\", force_remount=True).\n"
          ]
        }
      ],
      "source": [
        "from google.colab import drive\n",
        "drive.mount('/content/drive')"
      ]
    },
    {
      "cell_type": "code",
      "source": [
        "import numpy as np\n",
        "import pandas as pd\n",
        "from sklearn.metrics import (\n",
        "    accuracy_score, f1_score, precision_score, recall_score,\n",
        "    confusion_matrix, cohen_kappa_score, matthews_corrcoef\n",
        ")\n",
        "from sklearn.model_selection import KFold\n",
        "from sklearn.model_selection import train_test_split\n",
        "from sklearn.metrics import roc_auc_score\n",
        "from sklearn.metrics import precision_recall_curve\n",
        "#from keras.models import Sequential\n",
        "from tensorflow.keras.models import Sequential\n",
        "#from tensorflow.keras.layers import Dense, Conv1D, MaxPooling1D, Flatten\n",
        "from keras.layers import Dense, Conv1D, MaxPool1D, Flatten\n",
        "from tensorflow.keras.layers import Conv1D, MaxPooling1D, Flatten, Dense, Reshape, SimpleRNN"
      ],
      "metadata": {
        "id": "zdJnlonIcd3N"
      },
      "execution_count": null,
      "outputs": []
    },
    {
      "cell_type": "code",
      "source": [
        "# Load Training Data\n",
        "df = pd.read_csv('/content/drive/MyDrive/Colab Notebooks/Peptides/Multi Fusion 0.3/LSA+ PAAC merge.csv')\n",
        "df['target'].value_counts()"
      ],
      "metadata": {
        "colab": {
          "base_uri": "https://localhost:8080/",
          "height": 178
        },
        "id": "AGw2-qeZckhs",
        "outputId": "082feb8a-d08a-4396-e75d-d0475d7bdbe6"
      },
      "execution_count": null,
      "outputs": [
        {
          "output_type": "execute_result",
          "data": {
            "text/plain": [
              "target\n",
              "0    2425\n",
              "1    2425\n",
              "Name: count, dtype: int64"
            ],
            "text/html": [
              "<div>\n",
              "<style scoped>\n",
              "    .dataframe tbody tr th:only-of-type {\n",
              "        vertical-align: middle;\n",
              "    }\n",
              "\n",
              "    .dataframe tbody tr th {\n",
              "        vertical-align: top;\n",
              "    }\n",
              "\n",
              "    .dataframe thead th {\n",
              "        text-align: right;\n",
              "    }\n",
              "</style>\n",
              "<table border=\"1\" class=\"dataframe\">\n",
              "  <thead>\n",
              "    <tr style=\"text-align: right;\">\n",
              "      <th></th>\n",
              "      <th>count</th>\n",
              "    </tr>\n",
              "    <tr>\n",
              "      <th>target</th>\n",
              "      <th></th>\n",
              "    </tr>\n",
              "  </thead>\n",
              "  <tbody>\n",
              "    <tr>\n",
              "      <th>0</th>\n",
              "      <td>2425</td>\n",
              "    </tr>\n",
              "    <tr>\n",
              "      <th>1</th>\n",
              "      <td>2425</td>\n",
              "    </tr>\n",
              "  </tbody>\n",
              "</table>\n",
              "</div><br><label><b>dtype:</b> int64</label>"
            ]
          },
          "metadata": {},
          "execution_count": 3
        }
      ]
    },
    {
      "cell_type": "code",
      "source": [
        "target = 'target'\n",
        "\n",
        "Y = df[target]\n",
        "X= df.drop(target, axis=1)"
      ],
      "metadata": {
        "id": "mFBwzt-FcwaU"
      },
      "execution_count": null,
      "outputs": []
    },
    {
      "cell_type": "code",
      "source": [
        "X_train, X_test, Y_train, Y_test = train_test_split (X,Y,test_size=0.3,random_state=42 )\n"
      ],
      "metadata": {
        "id": "9HDwNbBZcx_2"
      },
      "execution_count": null,
      "outputs": []
    },
    {
      "cell_type": "markdown",
      "source": [
        "**Train part**"
      ],
      "metadata": {
        "id": "7S0s2qvLgqqb"
      }
    },
    {
      "cell_type": "code",
      "source": [
        "# Reshape X_train for Conv1D\n",
        "X_train1 = X_train.to_numpy().reshape(X_train.shape[0], X_train.shape[1], 1)\n",
        "Y_train1 = Y_train.to_numpy()\n",
        "\n",
        "# Define KFold for cross-validation\n",
        "kf = KFold(n_splits=5, random_state=1, shuffle=True)\n",
        "\n",
        "# Iterate over KFold splits\n",
        "\n",
        "for train_index, val_index in kf.split(X_train1):\n",
        "\n",
        "\n",
        "    # Split the data\n",
        "    X_train_fold, X_val_fold = X_train1[train_index], X_train1[val_index]\n",
        "    Y_train_fold, Y_val_fold = Y_train1[train_index], Y_train1[val_index]"
      ],
      "metadata": {
        "id": "oQhbLwtgc1DU"
      },
      "execution_count": null,
      "outputs": []
    },
    {
      "cell_type": "markdown",
      "source": [
        "**Test part**\n"
      ],
      "metadata": {
        "id": "iMUDzefYgl9T"
      }
    },
    {
      "cell_type": "code",
      "source": [
        "X_test1 = X_test.to_numpy().reshape(X_test.shape[0], X_test.shape[1], 1)\n",
        "Y_test1 = Y_test.to_numpy()"
      ],
      "metadata": {
        "id": "zBEE6XzQc-hT"
      },
      "execution_count": null,
      "outputs": []
    },
    {
      "cell_type": "markdown",
      "source": [
        "# **CNN**"
      ],
      "metadata": {
        "id": "oQ0Vpts2dC1m"
      }
    },
    {
      "cell_type": "code",
      "source": [
        "# Build the CNN model\n",
        "cnn = Sequential()\n",
        "cnn.add(Conv1D(filters=64, kernel_size=2, activation='relu', input_shape=(X_train1.shape[1], 1)))\n",
        "cnn.add(Conv1D(filters=128, kernel_size=2, activation='relu'))\n",
        "cnn.add(Conv1D(filters=128, kernel_size=2, activation='relu'))\n",
        "cnn.add(MaxPool1D(pool_size=2))\n",
        "cnn.add(Flatten())\n",
        "cnn.add(Dense(128, activation='relu'))\n",
        "cnn.add(Dense(64, activation='relu'))\n",
        "cnn.add(Dense(1, activation='sigmoid'))\n",
        "\n",
        "# Compile the CNN model\n",
        "cnn.compile(optimizer='adam', loss='binary_crossentropy', metrics=['accuracy'])\n",
        "\n",
        "# Train the model on the training dataset\n",
        "cnn.fit(X_train1, Y_train1, epochs=40, batch_size=64)"
      ],
      "metadata": {
        "colab": {
          "base_uri": "https://localhost:8080/"
        },
        "id": "0qIP6tRDc4sl",
        "outputId": "89ec36fd-165d-4f82-fa3c-aca47483c416"
      },
      "execution_count": null,
      "outputs": [
        {
          "output_type": "stream",
          "name": "stderr",
          "text": [
            "/usr/local/lib/python3.11/dist-packages/keras/src/layers/convolutional/base_conv.py:107: UserWarning: Do not pass an `input_shape`/`input_dim` argument to a layer. When using Sequential models, prefer using an `Input(shape)` object as the first layer in the model instead.\n",
            "  super().__init__(activity_regularizer=activity_regularizer, **kwargs)\n"
          ]
        },
        {
          "output_type": "stream",
          "name": "stdout",
          "text": [
            "Epoch 1/40\n",
            "\u001b[1m54/54\u001b[0m \u001b[32m━━━━━━━━━━━━━━━━━━━━\u001b[0m\u001b[37m\u001b[0m \u001b[1m11s\u001b[0m 37ms/step - accuracy: 0.6383 - loss: 0.6211\n",
            "Epoch 2/40\n",
            "\u001b[1m54/54\u001b[0m \u001b[32m━━━━━━━━━━━━━━━━━━━━\u001b[0m\u001b[37m\u001b[0m \u001b[1m4s\u001b[0m 6ms/step - accuracy: 0.7874 - loss: 0.4628\n",
            "Epoch 3/40\n",
            "\u001b[1m54/54\u001b[0m \u001b[32m━━━━━━━━━━━━━━━━━━━━\u001b[0m\u001b[37m\u001b[0m \u001b[1m0s\u001b[0m 6ms/step - accuracy: 0.8589 - loss: 0.3342\n",
            "Epoch 4/40\n",
            "\u001b[1m54/54\u001b[0m \u001b[32m━━━━━━━━━━━━━━━━━━━━\u001b[0m\u001b[37m\u001b[0m \u001b[1m0s\u001b[0m 5ms/step - accuracy: 0.9010 - loss: 0.2474\n",
            "Epoch 5/40\n",
            "\u001b[1m54/54\u001b[0m \u001b[32m━━━━━━━━━━━━━━━━━━━━\u001b[0m\u001b[37m\u001b[0m \u001b[1m0s\u001b[0m 5ms/step - accuracy: 0.9418 - loss: 0.1627\n",
            "Epoch 6/40\n",
            "\u001b[1m54/54\u001b[0m \u001b[32m━━━━━━━━━━━━━━━━━━━━\u001b[0m\u001b[37m\u001b[0m \u001b[1m0s\u001b[0m 5ms/step - accuracy: 0.9710 - loss: 0.0832\n",
            "Epoch 7/40\n",
            "\u001b[1m54/54\u001b[0m \u001b[32m━━━━━━━━━━━━━━━━━━━━\u001b[0m\u001b[37m\u001b[0m \u001b[1m0s\u001b[0m 5ms/step - accuracy: 0.9664 - loss: 0.0908\n",
            "Epoch 8/40\n",
            "\u001b[1m54/54\u001b[0m \u001b[32m━━━━━━━━━━━━━━━━━━━━\u001b[0m\u001b[37m\u001b[0m \u001b[1m0s\u001b[0m 5ms/step - accuracy: 0.9930 - loss: 0.0259\n",
            "Epoch 9/40\n",
            "\u001b[1m54/54\u001b[0m \u001b[32m━━━━━━━━━━━━━━━━━━━━\u001b[0m\u001b[37m\u001b[0m \u001b[1m0s\u001b[0m 5ms/step - accuracy: 0.9955 - loss: 0.0194\n",
            "Epoch 10/40\n",
            "\u001b[1m54/54\u001b[0m \u001b[32m━━━━━━━━━━━━━━━━━━━━\u001b[0m\u001b[37m\u001b[0m \u001b[1m0s\u001b[0m 5ms/step - accuracy: 0.9539 - loss: 0.1260\n",
            "Epoch 11/40\n",
            "\u001b[1m54/54\u001b[0m \u001b[32m━━━━━━━━━━━━━━━━━━━━\u001b[0m\u001b[37m\u001b[0m \u001b[1m0s\u001b[0m 5ms/step - accuracy: 0.9982 - loss: 0.0090\n",
            "Epoch 12/40\n",
            "\u001b[1m54/54\u001b[0m \u001b[32m━━━━━━━━━━━━━━━━━━━━\u001b[0m\u001b[37m\u001b[0m \u001b[1m0s\u001b[0m 5ms/step - accuracy: 1.0000 - loss: 0.0020\n",
            "Epoch 13/40\n",
            "\u001b[1m54/54\u001b[0m \u001b[32m━━━━━━━━━━━━━━━━━━━━\u001b[0m\u001b[37m\u001b[0m \u001b[1m0s\u001b[0m 5ms/step - accuracy: 1.0000 - loss: 7.4186e-04\n",
            "Epoch 14/40\n",
            "\u001b[1m54/54\u001b[0m \u001b[32m━━━━━━━━━━━━━━━━━━━━\u001b[0m\u001b[37m\u001b[0m \u001b[1m0s\u001b[0m 5ms/step - accuracy: 1.0000 - loss: 4.5817e-04\n",
            "Epoch 15/40\n",
            "\u001b[1m54/54\u001b[0m \u001b[32m━━━━━━━━━━━━━━━━━━━━\u001b[0m\u001b[37m\u001b[0m \u001b[1m0s\u001b[0m 5ms/step - accuracy: 1.0000 - loss: 3.3344e-04\n",
            "Epoch 16/40\n",
            "\u001b[1m54/54\u001b[0m \u001b[32m━━━━━━━━━━━━━━━━━━━━\u001b[0m\u001b[37m\u001b[0m \u001b[1m0s\u001b[0m 5ms/step - accuracy: 1.0000 - loss: 2.6241e-04\n",
            "Epoch 17/40\n",
            "\u001b[1m54/54\u001b[0m \u001b[32m━━━━━━━━━━━━━━━━━━━━\u001b[0m\u001b[37m\u001b[0m \u001b[1m0s\u001b[0m 5ms/step - accuracy: 1.0000 - loss: 1.6819e-04\n",
            "Epoch 18/40\n",
            "\u001b[1m54/54\u001b[0m \u001b[32m━━━━━━━━━━━━━━━━━━━━\u001b[0m\u001b[37m\u001b[0m \u001b[1m0s\u001b[0m 5ms/step - accuracy: 1.0000 - loss: 1.3653e-04\n",
            "Epoch 19/40\n",
            "\u001b[1m54/54\u001b[0m \u001b[32m━━━━━━━━━━━━━━━━━━━━\u001b[0m\u001b[37m\u001b[0m \u001b[1m0s\u001b[0m 6ms/step - accuracy: 1.0000 - loss: 8.5255e-05\n",
            "Epoch 20/40\n",
            "\u001b[1m54/54\u001b[0m \u001b[32m━━━━━━━━━━━━━━━━━━━━\u001b[0m\u001b[37m\u001b[0m \u001b[1m0s\u001b[0m 6ms/step - accuracy: 1.0000 - loss: 6.8601e-05\n",
            "Epoch 21/40\n",
            "\u001b[1m54/54\u001b[0m \u001b[32m━━━━━━━━━━━━━━━━━━━━\u001b[0m\u001b[37m\u001b[0m \u001b[1m0s\u001b[0m 6ms/step - accuracy: 1.0000 - loss: 5.9322e-05\n",
            "Epoch 22/40\n",
            "\u001b[1m54/54\u001b[0m \u001b[32m━━━━━━━━━━━━━━━━━━━━\u001b[0m\u001b[37m\u001b[0m \u001b[1m0s\u001b[0m 7ms/step - accuracy: 1.0000 - loss: 3.9710e-05\n",
            "Epoch 23/40\n",
            "\u001b[1m54/54\u001b[0m \u001b[32m━━━━━━━━━━━━━━━━━━━━\u001b[0m\u001b[37m\u001b[0m \u001b[1m1s\u001b[0m 6ms/step - accuracy: 1.0000 - loss: 3.5040e-05\n",
            "Epoch 24/40\n",
            "\u001b[1m54/54\u001b[0m \u001b[32m━━━━━━━━━━━━━━━━━━━━\u001b[0m\u001b[37m\u001b[0m \u001b[1m0s\u001b[0m 6ms/step - accuracy: 1.0000 - loss: 2.7741e-05\n",
            "Epoch 25/40\n",
            "\u001b[1m54/54\u001b[0m \u001b[32m━━━━━━━━━━━━━━━━━━━━\u001b[0m\u001b[37m\u001b[0m \u001b[1m1s\u001b[0m 6ms/step - accuracy: 1.0000 - loss: 2.5739e-05\n",
            "Epoch 26/40\n",
            "\u001b[1m54/54\u001b[0m \u001b[32m━━━━━━━━━━━━━━━━━━━━\u001b[0m\u001b[37m\u001b[0m \u001b[1m0s\u001b[0m 6ms/step - accuracy: 1.0000 - loss: 2.1005e-05\n",
            "Epoch 27/40\n",
            "\u001b[1m54/54\u001b[0m \u001b[32m━━━━━━━━━━━━━━━━━━━━\u001b[0m\u001b[37m\u001b[0m \u001b[1m0s\u001b[0m 6ms/step - accuracy: 1.0000 - loss: 2.2135e-05\n",
            "Epoch 28/40\n",
            "\u001b[1m54/54\u001b[0m \u001b[32m━━━━━━━━━━━━━━━━━━━━\u001b[0m\u001b[37m\u001b[0m \u001b[1m1s\u001b[0m 8ms/step - accuracy: 1.0000 - loss: 1.7130e-05\n",
            "Epoch 29/40\n",
            "\u001b[1m54/54\u001b[0m \u001b[32m━━━━━━━━━━━━━━━━━━━━\u001b[0m\u001b[37m\u001b[0m \u001b[1m1s\u001b[0m 8ms/step - accuracy: 1.0000 - loss: 1.4628e-05\n",
            "Epoch 30/40\n",
            "\u001b[1m54/54\u001b[0m \u001b[32m━━━━━━━━━━━━━━━━━━━━\u001b[0m\u001b[37m\u001b[0m \u001b[1m0s\u001b[0m 8ms/step - accuracy: 1.0000 - loss: 1.3398e-05\n",
            "Epoch 31/40\n",
            "\u001b[1m54/54\u001b[0m \u001b[32m━━━━━━━━━━━━━━━━━━━━\u001b[0m\u001b[37m\u001b[0m \u001b[1m0s\u001b[0m 8ms/step - accuracy: 1.0000 - loss: 1.0886e-05\n",
            "Epoch 32/40\n",
            "\u001b[1m54/54\u001b[0m \u001b[32m━━━━━━━━━━━━━━━━━━━━\u001b[0m\u001b[37m\u001b[0m \u001b[1m1s\u001b[0m 9ms/step - accuracy: 1.0000 - loss: 1.0394e-05\n",
            "Epoch 33/40\n",
            "\u001b[1m54/54\u001b[0m \u001b[32m━━━━━━━━━━━━━━━━━━━━\u001b[0m\u001b[37m\u001b[0m \u001b[1m1s\u001b[0m 10ms/step - accuracy: 1.0000 - loss: 1.0004e-05\n",
            "Epoch 34/40\n",
            "\u001b[1m54/54\u001b[0m \u001b[32m━━━━━━━━━━━━━━━━━━━━\u001b[0m\u001b[37m\u001b[0m \u001b[1m0s\u001b[0m 8ms/step - accuracy: 1.0000 - loss: 8.8568e-06\n",
            "Epoch 35/40\n",
            "\u001b[1m54/54\u001b[0m \u001b[32m━━━━━━━━━━━━━━━━━━━━\u001b[0m\u001b[37m\u001b[0m \u001b[1m1s\u001b[0m 9ms/step - accuracy: 1.0000 - loss: 8.3892e-06\n",
            "Epoch 36/40\n",
            "\u001b[1m54/54\u001b[0m \u001b[32m━━━━━━━━━━━━━━━━━━━━\u001b[0m\u001b[37m\u001b[0m \u001b[1m0s\u001b[0m 5ms/step - accuracy: 1.0000 - loss: 8.2055e-06\n",
            "Epoch 37/40\n",
            "\u001b[1m54/54\u001b[0m \u001b[32m━━━━━━━━━━━━━━━━━━━━\u001b[0m\u001b[37m\u001b[0m \u001b[1m1s\u001b[0m 9ms/step - accuracy: 1.0000 - loss: 6.7371e-06\n",
            "Epoch 38/40\n",
            "\u001b[1m54/54\u001b[0m \u001b[32m━━━━━━━━━━━━━━━━━━━━\u001b[0m\u001b[37m\u001b[0m \u001b[1m1s\u001b[0m 9ms/step - accuracy: 1.0000 - loss: 5.5008e-06\n",
            "Epoch 39/40\n",
            "\u001b[1m54/54\u001b[0m \u001b[32m━━━━━━━━━━━━━━━━━━━━\u001b[0m\u001b[37m\u001b[0m \u001b[1m0s\u001b[0m 5ms/step - accuracy: 1.0000 - loss: 5.4983e-06\n",
            "Epoch 40/40\n",
            "\u001b[1m54/54\u001b[0m \u001b[32m━━━━━━━━━━━━━━━━━━━━\u001b[0m\u001b[37m\u001b[0m \u001b[1m0s\u001b[0m 5ms/step - accuracy: 1.0000 - loss: 5.8198e-06\n"
          ]
        },
        {
          "output_type": "execute_result",
          "data": {
            "text/plain": [
              "<keras.src.callbacks.history.History at 0x79fd7f5eac50>"
            ]
          },
          "metadata": {},
          "execution_count": 8
        }
      ]
    },
    {
      "cell_type": "markdown",
      "source": [
        "**CNN Train**"
      ],
      "metadata": {
        "id": "B9eJv9mrd2Vd"
      }
    },
    {
      "cell_type": "code",
      "source": [
        "# Evaluate the model on the training set\n",
        "train_pred = cnn.predict(X_train_fold)\n",
        "train_pred_classes = np.round(train_pred).astype(int)\n",
        "\n",
        "# Performance metrics for training set\n",
        "train_accuracy = accuracy_score(Y_train_fold, train_pred_classes)\n",
        "train_mcc = matthews_corrcoef(Y_train_fold, train_pred_classes)\n",
        "train_kappa = cohen_kappa_score(Y_train_fold, train_pred_classes)\n",
        "train_precision = precision_score(Y_train_fold, train_pred_classes)\n",
        "train_f1 = f1_score(Y_train_fold, train_pred_classes)\n",
        "train_cm = confusion_matrix(Y_train_fold, train_pred_classes)\n",
        "train_specificity = train_cm[0, 0] / (train_cm[0, 0] + train_cm[0, 1])\n",
        "train_sensitivity = train_cm[1, 1] / (train_cm[1, 0] + train_cm[1, 1])\n",
        "\n",
        "print(\"Training Metrics:\")\n",
        "print(f\"Accuracy: {train_accuracy}\")\n",
        "print(f\"Matthews Correlation Coefficient (MCC): {train_mcc}\")\n",
        "print(f\"Kappa: {train_kappa}\")\n",
        "print(f\"Precision: {train_precision}\")\n",
        "print(f\"F1 Score: {train_f1}\")\n",
        "print(f\"Specificity: {train_specificity}\")\n",
        "print(f\"Sensitivity: {train_sensitivity}\")"
      ],
      "metadata": {
        "colab": {
          "base_uri": "https://localhost:8080/"
        },
        "id": "K2dxfrAAdSpL",
        "outputId": "04e2cb8c-afc8-4e03-c89a-4578360c1ca4"
      },
      "execution_count": null,
      "outputs": [
        {
          "output_type": "stream",
          "name": "stdout",
          "text": [
            "\u001b[1m85/85\u001b[0m \u001b[32m━━━━━━━━━━━━━━━━━━━━\u001b[0m\u001b[37m\u001b[0m \u001b[1m1s\u001b[0m 7ms/step\n",
            "Training Metrics:\n",
            "Accuracy: 1.0\n",
            "Matthews Correlation Coefficient (MCC): 1.0\n",
            "Kappa: 1.0\n",
            "Precision: 1.0\n",
            "F1 Score: 1.0\n",
            "Specificity: 1.0\n",
            "Sensitivity: 1.0\n"
          ]
        }
      ]
    },
    {
      "cell_type": "markdown",
      "source": [
        "**CNN Test**"
      ],
      "metadata": {
        "id": "GfhKQ7xydUzL"
      }
    },
    {
      "cell_type": "code",
      "source": [
        "# Predict on the test set\n",
        "test_pred = cnn.predict(X_test1)\n",
        "test_pred_classes = (test_pred > 0.5).astype(int)\n",
        "\n",
        "\n",
        "# Performance metrics for test set\n",
        "test_accuracy = accuracy_score(Y_test1, test_pred_classes)\n",
        "test_mcc = matthews_corrcoef(Y_test1, test_pred_classes)\n",
        "test_kappa = cohen_kappa_score(Y_test1, test_pred_classes)\n",
        "test_precision = precision_score(Y_test1, test_pred_classes)\n",
        "test_f1 = f1_score(Y_test1, test_pred_classes)\n",
        "test_cm = confusion_matrix(Y_test1, test_pred_classes)\n",
        "test_specificity = test_cm[0, 0] / (test_cm[0, 0] + test_cm[0, 1])\n",
        "test_sensitivity = test_cm[1, 1] / (test_cm[1, 0] + test_cm[1, 1])\n",
        "\n",
        "print(\"\\nTest Metrics:\")\n",
        "print(f\"Accuracy: {test_accuracy}\")\n",
        "print(f\"Matthews Correlation Coefficient (MCC): {test_mcc}\")\n",
        "print(f\"Kappa: {test_kappa}\")\n",
        "print(f\"Precision: {test_precision}\")\n",
        "print(f\"F1 Score: {test_f1}\")\n",
        "print(f\"Specificity: {test_specificity}\")\n",
        "print(f\"Sensitivity: {test_sensitivity}\")"
      ],
      "metadata": {
        "colab": {
          "base_uri": "https://localhost:8080/"
        },
        "id": "Xyl0F6YfdYRa",
        "outputId": "4da6548d-e233-4ec7-86f5-6512eb306ce2"
      },
      "execution_count": null,
      "outputs": [
        {
          "output_type": "stream",
          "name": "stdout",
          "text": [
            "\u001b[1m46/46\u001b[0m \u001b[32m━━━━━━━━━━━━━━━━━━━━\u001b[0m\u001b[37m\u001b[0m \u001b[1m0s\u001b[0m 9ms/step\n",
            "\n",
            "Test Metrics:\n",
            "Accuracy: 0.9457044673539519\n",
            "Matthews Correlation Coefficient (MCC): 0.8913086941663508\n",
            "Kappa: 0.8912402743570407\n",
            "Precision: 0.9495677233429395\n",
            "F1 Score: 0.9434502505368647\n",
            "Specificity: 0.9534574468085106\n",
            "Sensitivity: 0.9374110953058321\n"
          ]
        }
      ]
    },
    {
      "cell_type": "markdown",
      "source": [
        "# **BiLSTM**"
      ],
      "metadata": {
        "id": "wAR4IROmdlST"
      }
    },
    {
      "cell_type": "code",
      "source": [
        "from tensorflow.keras.layers import LSTM, Dense, Bidirectional, Dropout\n",
        "\n",
        "\n",
        "# Build the BiLSTM model\n",
        "bilstm_model = Sequential()\n",
        "bilstm_model.add(Bidirectional(LSTM(64, return_sequences=True), input_shape=(X_train1.shape[1], 1)))\n",
        "bilstm_model.add(Bidirectional(LSTM(64)))\n",
        "bilstm_model.add(Dropout(0.5))  # Helps prevent overfitting\n",
        "bilstm_model.add(Dense(128, activation='relu'))\n",
        "bilstm_model.add(Dense(64, activation='relu'))\n",
        "bilstm_model.add(Dense(1, activation='sigmoid'))  # Output layer for binary classification\n",
        "\n",
        "# Compile the BiLSTM model\n",
        "bilstm_model.compile(optimizer='adam', loss='binary_crossentropy', metrics=['accuracy'])\n",
        "\n",
        "# Train the model\n",
        "bilstm_model.fit(X_train1, Y_train1, epochs=40, batch_size=64, verbose=1)"
      ],
      "metadata": {
        "colab": {
          "base_uri": "https://localhost:8080/"
        },
        "id": "f5AzsSApdoVZ",
        "outputId": "f320deb1-0a3c-425e-de19-aa821b899c02"
      },
      "execution_count": null,
      "outputs": [
        {
          "output_type": "stream",
          "name": "stderr",
          "text": [
            "/usr/local/lib/python3.11/dist-packages/keras/src/layers/rnn/bidirectional.py:107: UserWarning: Do not pass an `input_shape`/`input_dim` argument to a layer. When using Sequential models, prefer using an `Input(shape)` object as the first layer in the model instead.\n",
            "  super().__init__(**kwargs)\n"
          ]
        },
        {
          "output_type": "stream",
          "name": "stdout",
          "text": [
            "Epoch 1/40\n",
            "\u001b[1m54/54\u001b[0m \u001b[32m━━━━━━━━━━━━━━━━━━━━\u001b[0m\u001b[37m\u001b[0m \u001b[1m8s\u001b[0m 28ms/step - accuracy: 0.5054 - loss: 0.6944\n",
            "Epoch 2/40\n",
            "\u001b[1m54/54\u001b[0m \u001b[32m━━━━━━━━━━━━━━━━━━━━\u001b[0m\u001b[37m\u001b[0m \u001b[1m3s\u001b[0m 25ms/step - accuracy: 0.5774 - loss: 0.6795\n",
            "Epoch 3/40\n",
            "\u001b[1m54/54\u001b[0m \u001b[32m━━━━━━━━━━━━━━━━━━━━\u001b[0m\u001b[37m\u001b[0m \u001b[1m3s\u001b[0m 25ms/step - accuracy: 0.6076 - loss: 0.6654\n",
            "Epoch 4/40\n",
            "\u001b[1m54/54\u001b[0m \u001b[32m━━━━━━━━━━━━━━━━━━━━\u001b[0m\u001b[37m\u001b[0m \u001b[1m2s\u001b[0m 35ms/step - accuracy: 0.6210 - loss: 0.6483\n",
            "Epoch 5/40\n",
            "\u001b[1m54/54\u001b[0m \u001b[32m━━━━━━━━━━━━━━━━━━━━\u001b[0m\u001b[37m\u001b[0m \u001b[1m2s\u001b[0m 28ms/step - accuracy: 0.6327 - loss: 0.6431\n",
            "Epoch 6/40\n",
            "\u001b[1m54/54\u001b[0m \u001b[32m━━━━━━━━━━━━━━━━━━━━\u001b[0m\u001b[37m\u001b[0m \u001b[1m1s\u001b[0m 25ms/step - accuracy: 0.6275 - loss: 0.6490\n",
            "Epoch 7/40\n",
            "\u001b[1m54/54\u001b[0m \u001b[32m━━━━━━━━━━━━━━━━━━━━\u001b[0m\u001b[37m\u001b[0m \u001b[1m1s\u001b[0m 26ms/step - accuracy: 0.6525 - loss: 0.6302\n",
            "Epoch 8/40\n",
            "\u001b[1m54/54\u001b[0m \u001b[32m━━━━━━━━━━━━━━━━━━━━\u001b[0m\u001b[37m\u001b[0m \u001b[1m2s\u001b[0m 25ms/step - accuracy: 0.6604 - loss: 0.6295\n",
            "Epoch 9/40\n",
            "\u001b[1m54/54\u001b[0m \u001b[32m━━━━━━━━━━━━━━━━━━━━\u001b[0m\u001b[37m\u001b[0m \u001b[1m3s\u001b[0m 25ms/step - accuracy: 0.6613 - loss: 0.6148\n",
            "Epoch 10/40\n",
            "\u001b[1m54/54\u001b[0m \u001b[32m━━━━━━━━━━━━━━━━━━━━\u001b[0m\u001b[37m\u001b[0m \u001b[1m1s\u001b[0m 26ms/step - accuracy: 0.6975 - loss: 0.5824\n",
            "Epoch 11/40\n",
            "\u001b[1m54/54\u001b[0m \u001b[32m━━━━━━━━━━━━━━━━━━━━\u001b[0m\u001b[37m\u001b[0m \u001b[1m2s\u001b[0m 35ms/step - accuracy: 0.6775 - loss: 0.5949\n",
            "Epoch 12/40\n",
            "\u001b[1m54/54\u001b[0m \u001b[32m━━━━━━━━━━━━━━━━━━━━\u001b[0m\u001b[37m\u001b[0m \u001b[1m2s\u001b[0m 32ms/step - accuracy: 0.7117 - loss: 0.5795\n",
            "Epoch 13/40\n",
            "\u001b[1m54/54\u001b[0m \u001b[32m━━━━━━━━━━━━━━━━━━━━\u001b[0m\u001b[37m\u001b[0m \u001b[1m1s\u001b[0m 25ms/step - accuracy: 0.7067 - loss: 0.5751\n",
            "Epoch 14/40\n",
            "\u001b[1m54/54\u001b[0m \u001b[32m━━━━━━━━━━━━━━━━━━━━\u001b[0m\u001b[37m\u001b[0m \u001b[1m3s\u001b[0m 25ms/step - accuracy: 0.7234 - loss: 0.5587\n",
            "Epoch 15/40\n",
            "\u001b[1m54/54\u001b[0m \u001b[32m━━━━━━━━━━━━━━━━━━━━\u001b[0m\u001b[37m\u001b[0m \u001b[1m1s\u001b[0m 25ms/step - accuracy: 0.7269 - loss: 0.5684\n",
            "Epoch 16/40\n",
            "\u001b[1m54/54\u001b[0m \u001b[32m━━━━━━━━━━━━━━━━━━━━\u001b[0m\u001b[37m\u001b[0m \u001b[1m3s\u001b[0m 34ms/step - accuracy: 0.7231 - loss: 0.5540\n",
            "Epoch 17/40\n",
            "\u001b[1m54/54\u001b[0m \u001b[32m━━━━━━━━━━━━━━━━━━━━\u001b[0m\u001b[37m\u001b[0m \u001b[1m3s\u001b[0m 36ms/step - accuracy: 0.7418 - loss: 0.5477\n",
            "Epoch 18/40\n",
            "\u001b[1m54/54\u001b[0m \u001b[32m━━━━━━━━━━━━━━━━━━━━\u001b[0m\u001b[37m\u001b[0m \u001b[1m2s\u001b[0m 31ms/step - accuracy: 0.7251 - loss: 0.5529\n",
            "Epoch 19/40\n",
            "\u001b[1m54/54\u001b[0m \u001b[32m━━━━━━━━━━━━━━━━━━━━\u001b[0m\u001b[37m\u001b[0m \u001b[1m1s\u001b[0m 25ms/step - accuracy: 0.7296 - loss: 0.5440\n",
            "Epoch 20/40\n",
            "\u001b[1m54/54\u001b[0m \u001b[32m━━━━━━━━━━━━━━━━━━━━\u001b[0m\u001b[37m\u001b[0m \u001b[1m1s\u001b[0m 25ms/step - accuracy: 0.7036 - loss: 0.5807\n",
            "Epoch 21/40\n",
            "\u001b[1m54/54\u001b[0m \u001b[32m━━━━━━━━━━━━━━━━━━━━\u001b[0m\u001b[37m\u001b[0m \u001b[1m1s\u001b[0m 25ms/step - accuracy: 0.7088 - loss: 0.5733\n",
            "Epoch 22/40\n",
            "\u001b[1m54/54\u001b[0m \u001b[32m━━━━━━━━━━━━━━━━━━━━\u001b[0m\u001b[37m\u001b[0m \u001b[1m1s\u001b[0m 25ms/step - accuracy: 0.7218 - loss: 0.5578\n",
            "Epoch 23/40\n",
            "\u001b[1m54/54\u001b[0m \u001b[32m━━━━━━━━━━━━━━━━━━━━\u001b[0m\u001b[37m\u001b[0m \u001b[1m3s\u001b[0m 25ms/step - accuracy: 0.7216 - loss: 0.5528\n",
            "Epoch 24/40\n",
            "\u001b[1m54/54\u001b[0m \u001b[32m━━━━━━━━━━━━━━━━━━━━\u001b[0m\u001b[37m\u001b[0m \u001b[1m3s\u001b[0m 33ms/step - accuracy: 0.7466 - loss: 0.5399\n",
            "Epoch 25/40\n",
            "\u001b[1m54/54\u001b[0m \u001b[32m━━━━━━━━━━━━━━━━━━━━\u001b[0m\u001b[37m\u001b[0m \u001b[1m2s\u001b[0m 34ms/step - accuracy: 0.7291 - loss: 0.5420\n",
            "Epoch 26/40\n",
            "\u001b[1m54/54\u001b[0m \u001b[32m━━━━━━━━━━━━━━━━━━━━\u001b[0m\u001b[37m\u001b[0m \u001b[1m1s\u001b[0m 25ms/step - accuracy: 0.7388 - loss: 0.5395\n",
            "Epoch 27/40\n",
            "\u001b[1m54/54\u001b[0m \u001b[32m━━━━━━━━━━━━━━━━━━━━\u001b[0m\u001b[37m\u001b[0m \u001b[1m1s\u001b[0m 26ms/step - accuracy: 0.7356 - loss: 0.5468\n",
            "Epoch 28/40\n",
            "\u001b[1m54/54\u001b[0m \u001b[32m━━━━━━━━━━━━━━━━━━━━\u001b[0m\u001b[37m\u001b[0m \u001b[1m1s\u001b[0m 25ms/step - accuracy: 0.7245 - loss: 0.5536\n",
            "Epoch 29/40\n",
            "\u001b[1m54/54\u001b[0m \u001b[32m━━━━━━━━━━━━━━━━━━━━\u001b[0m\u001b[37m\u001b[0m \u001b[1m3s\u001b[0m 25ms/step - accuracy: 0.7401 - loss: 0.5363\n",
            "Epoch 30/40\n",
            "\u001b[1m54/54\u001b[0m \u001b[32m━━━━━━━━━━━━━━━━━━━━\u001b[0m\u001b[37m\u001b[0m \u001b[1m1s\u001b[0m 25ms/step - accuracy: 0.7388 - loss: 0.5395\n",
            "Epoch 31/40\n",
            "\u001b[1m54/54\u001b[0m \u001b[32m━━━━━━━━━━━━━━━━━━━━\u001b[0m\u001b[37m\u001b[0m \u001b[1m1s\u001b[0m 25ms/step - accuracy: 0.7280 - loss: 0.5387\n",
            "Epoch 32/40\n",
            "\u001b[1m54/54\u001b[0m \u001b[32m━━━━━━━━━━━━━━━━━━━━\u001b[0m\u001b[37m\u001b[0m \u001b[1m2s\u001b[0m 35ms/step - accuracy: 0.7355 - loss: 0.5423\n",
            "Epoch 33/40\n",
            "\u001b[1m54/54\u001b[0m \u001b[32m━━━━━━━━━━━━━━━━━━━━\u001b[0m\u001b[37m\u001b[0m \u001b[1m2s\u001b[0m 31ms/step - accuracy: 0.7354 - loss: 0.5302\n",
            "Epoch 34/40\n",
            "\u001b[1m54/54\u001b[0m \u001b[32m━━━━━━━━━━━━━━━━━━━━\u001b[0m\u001b[37m\u001b[0m \u001b[1m1s\u001b[0m 25ms/step - accuracy: 0.7431 - loss: 0.5231\n",
            "Epoch 35/40\n",
            "\u001b[1m54/54\u001b[0m \u001b[32m━━━━━━━━━━━━━━━━━━━━\u001b[0m\u001b[37m\u001b[0m \u001b[1m1s\u001b[0m 25ms/step - accuracy: 0.7511 - loss: 0.5128\n",
            "Epoch 36/40\n",
            "\u001b[1m54/54\u001b[0m \u001b[32m━━━━━━━━━━━━━━━━━━━━\u001b[0m\u001b[37m\u001b[0m \u001b[1m1s\u001b[0m 25ms/step - accuracy: 0.7397 - loss: 0.5254\n",
            "Epoch 37/40\n",
            "\u001b[1m54/54\u001b[0m \u001b[32m━━━━━━━━━━━━━━━━━━━━\u001b[0m\u001b[37m\u001b[0m \u001b[1m1s\u001b[0m 26ms/step - accuracy: 0.7441 - loss: 0.5371\n",
            "Epoch 38/40\n",
            "\u001b[1m54/54\u001b[0m \u001b[32m━━━━━━━━━━━━━━━━━━━━\u001b[0m\u001b[37m\u001b[0m \u001b[1m1s\u001b[0m 26ms/step - accuracy: 0.7561 - loss: 0.5156\n",
            "Epoch 39/40\n",
            "\u001b[1m54/54\u001b[0m \u001b[32m━━━━━━━━━━━━━━━━━━━━\u001b[0m\u001b[37m\u001b[0m \u001b[1m3s\u001b[0m 26ms/step - accuracy: 0.7466 - loss: 0.5264\n",
            "Epoch 40/40\n",
            "\u001b[1m54/54\u001b[0m \u001b[32m━━━━━━━━━━━━━━━━━━━━\u001b[0m\u001b[37m\u001b[0m \u001b[1m3s\u001b[0m 33ms/step - accuracy: 0.7611 - loss: 0.5013\n"
          ]
        },
        {
          "output_type": "execute_result",
          "data": {
            "text/plain": [
              "<keras.src.callbacks.history.History at 0x79fd601e1610>"
            ]
          },
          "metadata": {},
          "execution_count": 11
        }
      ]
    },
    {
      "cell_type": "markdown",
      "source": [
        "**BiLSTM Train**"
      ],
      "metadata": {
        "id": "JzBVPZuqd-NX"
      }
    },
    {
      "cell_type": "code",
      "source": [
        "# Evaluate the BiLSTM model on training data\n",
        "train_pred = bilstm_model.predict(X_train_fold)\n",
        "train_pred_classes =  np.round(train_pred).astype(int)\n",
        "\n",
        "\n",
        "# Performance metrics for training set\n",
        "train_accuracy = accuracy_score(Y_train_fold, train_pred_classes)\n",
        "train_mcc = matthews_corrcoef(Y_train_fold, train_pred_classes)\n",
        "train_kappa = cohen_kappa_score(Y_train_fold, train_pred_classes)\n",
        "train_precision = precision_score(Y_train_fold, train_pred_classes)\n",
        "train_f1 = f1_score(Y_train_fold, train_pred_classes)\n",
        "train_cm = confusion_matrix(Y_train_fold, train_pred_classes)\n",
        "train_specificity = train_cm[0, 0] / (train_cm[0, 0] + train_cm[0, 1])\n",
        "train_sensitivity = train_cm[1, 1] / (train_cm[1, 0] + train_cm[1, 1])\n",
        "\n",
        "print(\"\\nTraining Metrics:\")\n",
        "print(f\"Accuracy: {train_accuracy}\")\n",
        "print(f\"Matthews Correlation Coefficient (MCC): {train_mcc}\")\n",
        "print(f\"Kappa: {train_kappa}\")\n",
        "print(f\"Precision: {train_precision}\")\n",
        "print(f\"F1 Score: {train_f1}\")\n",
        "print(f\"Specificity: {train_specificity}\")\n",
        "print(f\"Sensitivity: {train_sensitivity}\")"
      ],
      "metadata": {
        "colab": {
          "base_uri": "https://localhost:8080/"
        },
        "id": "LgMvNZ_tdqcj",
        "outputId": "ecfd0ba7-728f-4b49-b40c-12b0a0c627c3"
      },
      "execution_count": null,
      "outputs": [
        {
          "output_type": "stream",
          "name": "stdout",
          "text": [
            "\u001b[1m85/85\u001b[0m \u001b[32m━━━━━━━━━━━━━━━━━━━━\u001b[0m\u001b[37m\u001b[0m \u001b[1m2s\u001b[0m 14ms/step\n",
            "\n",
            "Training Metrics:\n",
            "Accuracy: 0.7650957290132547\n",
            "Matthews Correlation Coefficient (MCC): 0.5302956647335665\n",
            "Kappa: 0.5301662360057807\n",
            "Precision: 0.7705660377358491\n",
            "F1 Score: 0.7619402985074627\n",
            "Specificity: 0.7766348273328435\n",
            "Sensitivity: 0.7535055350553506\n"
          ]
        }
      ]
    },
    {
      "cell_type": "markdown",
      "source": [
        "**BiLSTM Test**"
      ],
      "metadata": {
        "id": "g6cKfq0SeKga"
      }
    },
    {
      "cell_type": "code",
      "source": [
        "# Evaluate the BiLSTM model on test data\n",
        "test_pred = bilstm_model.predict(X_test1)\n",
        "test_pred_classes = (test_pred > 0.5).astype(int)\n",
        "\n",
        "\n",
        "# Performance metrics for test set\n",
        "test_accuracy = accuracy_score(Y_test1, test_pred_classes)\n",
        "test_mcc = matthews_corrcoef(Y_test1, test_pred_classes)\n",
        "test_kappa = cohen_kappa_score(Y_test1, test_pred_classes)\n",
        "test_precision = precision_score(Y_test1, test_pred_classes)\n",
        "test_f1 = f1_score(Y_test1, test_pred_classes)\n",
        "test_cm = confusion_matrix(Y_test1, test_pred_classes)\n",
        "test_specificity = test_cm[0, 0] / (test_cm[0, 0] + test_cm[0, 1])\n",
        "test_sensitivity = test_cm[1, 1] / (test_cm[1, 0] + test_cm[1, 1])\n",
        "\n",
        "print(\"\\nTest Metrics:\")\n",
        "print(f\"Accuracy: {test_accuracy}\")\n",
        "print(f\"Matthews Correlation Coefficient (MCC): {test_mcc}\")\n",
        "print(f\"Kappa: {test_kappa}\")\n",
        "print(f\"Precision: {test_precision}\")\n",
        "print(f\"F1 Score: {test_f1}\")\n",
        "print(f\"Specificity: {test_specificity}\")\n",
        "print(f\"Sensitivity: {test_sensitivity}\")"
      ],
      "metadata": {
        "colab": {
          "base_uri": "https://localhost:8080/"
        },
        "id": "i8DUULl3eNkp",
        "outputId": "b726b204-c5d3-491b-a8b1-634e0558b3b8"
      },
      "execution_count": null,
      "outputs": [
        {
          "output_type": "stream",
          "name": "stdout",
          "text": [
            "\u001b[1m46/46\u001b[0m \u001b[32m━━━━━━━━━━━━━━━━━━━━\u001b[0m\u001b[37m\u001b[0m \u001b[1m0s\u001b[0m 9ms/step\n",
            "\n",
            "Test Metrics:\n",
            "Accuracy: 0.7457044673539519\n",
            "Matthews Correlation Coefficient (MCC): 0.49125266897991504\n",
            "Kappa: 0.49116160900115124\n",
            "Precision: 0.7322175732217573\n",
            "F1 Score: 0.7394366197183099\n",
            "Specificity: 0.7446808510638298\n",
            "Sensitivity: 0.7467994310099573\n"
          ]
        }
      ]
    },
    {
      "cell_type": "markdown",
      "source": [
        "# **RNN**"
      ],
      "metadata": {
        "id": "RkPlwlqzeRMb"
      }
    },
    {
      "cell_type": "code",
      "source": [
        "from tensorflow.keras.layers import SimpleRNN, Dense, Dropout\n",
        "\n",
        "\n",
        "\n",
        "# Build the RNN model\n",
        "rnn_model = Sequential()\n",
        "rnn_model.add(SimpleRNN(64, return_sequences=True, input_shape=(X_train1.shape[1], 1), activation='relu'))\n",
        "rnn_model.add(SimpleRNN(64, activation='relu'))\n",
        "rnn_model.add(Dropout(0.5))  # Helps prevent overfitting\n",
        "rnn_model.add(Dense(128, activation='relu'))\n",
        "rnn_model.add(Dense(64, activation='relu'))\n",
        "rnn_model.add(Dense(1, activation='sigmoid'))  # Output layer for binary classification\n",
        "\n",
        "# Compile the RNN model\n",
        "rnn_model.compile(optimizer='adam', loss='binary_crossentropy', metrics=['accuracy'])\n",
        "\n",
        "# Train the RNN model\n",
        "rnn_model.fit(X_train1, Y_train1, epochs=40, batch_size=64, verbose=1)"
      ],
      "metadata": {
        "colab": {
          "base_uri": "https://localhost:8080/"
        },
        "id": "_6F0LKdieTtR",
        "outputId": "da49b29d-0415-47e6-a79b-5d93b008a8f6"
      },
      "execution_count": null,
      "outputs": [
        {
          "output_type": "stream",
          "name": "stderr",
          "text": [
            "/usr/local/lib/python3.11/dist-packages/keras/src/layers/rnn/rnn.py:200: UserWarning: Do not pass an `input_shape`/`input_dim` argument to a layer. When using Sequential models, prefer using an `Input(shape)` object as the first layer in the model instead.\n",
            "  super().__init__(**kwargs)\n"
          ]
        },
        {
          "output_type": "stream",
          "name": "stdout",
          "text": [
            "Epoch 1/40\n",
            "\u001b[1m54/54\u001b[0m \u001b[32m━━━━━━━━━━━━━━━━━━━━\u001b[0m\u001b[37m\u001b[0m \u001b[1m9s\u001b[0m 70ms/step - accuracy: 0.5963 - loss: 0.6649\n",
            "Epoch 2/40\n",
            "\u001b[1m54/54\u001b[0m \u001b[32m━━━━━━━━━━━━━━━━━━━━\u001b[0m\u001b[37m\u001b[0m \u001b[1m1s\u001b[0m 22ms/step - accuracy: 0.6862 - loss: 0.6148\n",
            "Epoch 3/40\n",
            "\u001b[1m54/54\u001b[0m \u001b[32m━━━━━━━━━━━━━━━━━━━━\u001b[0m\u001b[37m\u001b[0m \u001b[1m1s\u001b[0m 21ms/step - accuracy: 0.6982 - loss: 0.5867\n",
            "Epoch 4/40\n",
            "\u001b[1m54/54\u001b[0m \u001b[32m━━━━━━━━━━━━━━━━━━━━\u001b[0m\u001b[37m\u001b[0m \u001b[1m1s\u001b[0m 21ms/step - accuracy: 0.7267 - loss: 0.5491\n",
            "Epoch 5/40\n",
            "\u001b[1m54/54\u001b[0m \u001b[32m━━━━━━━━━━━━━━━━━━━━\u001b[0m\u001b[37m\u001b[0m \u001b[1m1s\u001b[0m 21ms/step - accuracy: 0.7264 - loss: 0.5508\n",
            "Epoch 6/40\n",
            "\u001b[1m54/54\u001b[0m \u001b[32m━━━━━━━━━━━━━━━━━━━━\u001b[0m\u001b[37m\u001b[0m \u001b[1m1s\u001b[0m 21ms/step - accuracy: 0.7699 - loss: 0.4937\n",
            "Epoch 7/40\n",
            "\u001b[1m54/54\u001b[0m \u001b[32m━━━━━━━━━━━━━━━━━━━━\u001b[0m\u001b[37m\u001b[0m \u001b[1m1s\u001b[0m 23ms/step - accuracy: 0.7666 - loss: 0.4942\n",
            "Epoch 8/40\n",
            "\u001b[1m54/54\u001b[0m \u001b[32m━━━━━━━━━━━━━━━━━━━━\u001b[0m\u001b[37m\u001b[0m \u001b[1m2s\u001b[0m 21ms/step - accuracy: 0.7526 - loss: 0.5023\n",
            "Epoch 9/40\n",
            "\u001b[1m54/54\u001b[0m \u001b[32m━━━━━━━━━━━━━━━━━━━━\u001b[0m\u001b[37m\u001b[0m \u001b[1m1s\u001b[0m 21ms/step - accuracy: 0.7850 - loss: 0.4717\n",
            "Epoch 10/40\n",
            "\u001b[1m54/54\u001b[0m \u001b[32m━━━━━━━━━━━━━━━━━━━━\u001b[0m\u001b[37m\u001b[0m \u001b[1m1s\u001b[0m 22ms/step - accuracy: 0.7836 - loss: 0.4816\n",
            "Epoch 11/40\n",
            "\u001b[1m54/54\u001b[0m \u001b[32m━━━━━━━━━━━━━━━━━━━━\u001b[0m\u001b[37m\u001b[0m \u001b[1m1s\u001b[0m 22ms/step - accuracy: 0.7201 - loss: 0.5527\n",
            "Epoch 12/40\n",
            "\u001b[1m54/54\u001b[0m \u001b[32m━━━━━━━━━━━━━━━━━━━━\u001b[0m\u001b[37m\u001b[0m \u001b[1m1s\u001b[0m 22ms/step - accuracy: 0.7529 - loss: 0.5092\n",
            "Epoch 13/40\n",
            "\u001b[1m54/54\u001b[0m \u001b[32m━━━━━━━━━━━━━━━━━━━━\u001b[0m\u001b[37m\u001b[0m \u001b[1m1s\u001b[0m 21ms/step - accuracy: 0.7975 - loss: 0.4564\n",
            "Epoch 14/40\n",
            "\u001b[1m54/54\u001b[0m \u001b[32m━━━━━━━━━━━━━━━━━━━━\u001b[0m\u001b[37m\u001b[0m \u001b[1m1s\u001b[0m 21ms/step - accuracy: 0.8007 - loss: 0.4357\n",
            "Epoch 15/40\n",
            "\u001b[1m54/54\u001b[0m \u001b[32m━━━━━━━━━━━━━━━━━━━━\u001b[0m\u001b[37m\u001b[0m \u001b[1m1s\u001b[0m 21ms/step - accuracy: 0.8220 - loss: 0.3938\n",
            "Epoch 16/40\n",
            "\u001b[1m54/54\u001b[0m \u001b[32m━━━━━━━━━━━━━━━━━━━━\u001b[0m\u001b[37m\u001b[0m \u001b[1m1s\u001b[0m 21ms/step - accuracy: 0.8048 - loss: 0.4376\n",
            "Epoch 17/40\n",
            "\u001b[1m54/54\u001b[0m \u001b[32m━━━━━━━━━━━━━━━━━━━━\u001b[0m\u001b[37m\u001b[0m \u001b[1m1s\u001b[0m 21ms/step - accuracy: 0.8047 - loss: 0.4268\n",
            "Epoch 18/40\n",
            "\u001b[1m54/54\u001b[0m \u001b[32m━━━━━━━━━━━━━━━━━━━━\u001b[0m\u001b[37m\u001b[0m \u001b[1m1s\u001b[0m 21ms/step - accuracy: 0.8275 - loss: 0.4039\n",
            "Epoch 19/40\n",
            "\u001b[1m54/54\u001b[0m \u001b[32m━━━━━━━━━━━━━━━━━━━━\u001b[0m\u001b[37m\u001b[0m \u001b[1m1s\u001b[0m 21ms/step - accuracy: 0.8239 - loss: 0.3911\n",
            "Epoch 20/40\n",
            "\u001b[1m54/54\u001b[0m \u001b[32m━━━━━━━━━━━━━━━━━━━━\u001b[0m\u001b[37m\u001b[0m \u001b[1m1s\u001b[0m 21ms/step - accuracy: 0.8175 - loss: 0.4030\n",
            "Epoch 21/40\n",
            "\u001b[1m54/54\u001b[0m \u001b[32m━━━━━━━━━━━━━━━━━━━━\u001b[0m\u001b[37m\u001b[0m \u001b[1m1s\u001b[0m 22ms/step - accuracy: 0.8351 - loss: 0.3921\n",
            "Epoch 22/40\n",
            "\u001b[1m54/54\u001b[0m \u001b[32m━━━━━━━━━━━━━━━━━━━━\u001b[0m\u001b[37m\u001b[0m \u001b[1m1s\u001b[0m 22ms/step - accuracy: 0.8422 - loss: 0.3679\n",
            "Epoch 23/40\n",
            "\u001b[1m54/54\u001b[0m \u001b[32m━━━━━━━━━━━━━━━━━━━━\u001b[0m\u001b[37m\u001b[0m \u001b[1m1s\u001b[0m 21ms/step - accuracy: 0.8597 - loss: 0.3466\n",
            "Epoch 24/40\n",
            "\u001b[1m54/54\u001b[0m \u001b[32m━━━━━━━━━━━━━━━━━━━━\u001b[0m\u001b[37m\u001b[0m \u001b[1m1s\u001b[0m 21ms/step - accuracy: 0.8129 - loss: 0.4364\n",
            "Epoch 25/40\n",
            "\u001b[1m54/54\u001b[0m \u001b[32m━━━━━━━━━━━━━━━━━━━━\u001b[0m\u001b[37m\u001b[0m \u001b[1m1s\u001b[0m 21ms/step - accuracy: 0.8265 - loss: 0.3991\n",
            "Epoch 26/40\n",
            "\u001b[1m54/54\u001b[0m \u001b[32m━━━━━━━━━━━━━━━━━━━━\u001b[0m\u001b[37m\u001b[0m \u001b[1m1s\u001b[0m 21ms/step - accuracy: 0.8492 - loss: 0.3591\n",
            "Epoch 27/40\n",
            "\u001b[1m54/54\u001b[0m \u001b[32m━━━━━━━━━━━━━━━━━━━━\u001b[0m\u001b[37m\u001b[0m \u001b[1m1s\u001b[0m 21ms/step - accuracy: 0.8614 - loss: 0.3206\n",
            "Epoch 28/40\n",
            "\u001b[1m54/54\u001b[0m \u001b[32m━━━━━━━━━━━━━━━━━━━━\u001b[0m\u001b[37m\u001b[0m \u001b[1m1s\u001b[0m 21ms/step - accuracy: 0.8776 - loss: 0.3103\n",
            "Epoch 29/40\n",
            "\u001b[1m54/54\u001b[0m \u001b[32m━━━━━━━━━━━━━━━━━━━━\u001b[0m\u001b[37m\u001b[0m \u001b[1m1s\u001b[0m 21ms/step - accuracy: 0.8636 - loss: 0.3254\n",
            "Epoch 30/40\n",
            "\u001b[1m54/54\u001b[0m \u001b[32m━━━━━━━━━━━━━━━━━━━━\u001b[0m\u001b[37m\u001b[0m \u001b[1m1s\u001b[0m 21ms/step - accuracy: 0.8584 - loss: 0.3292\n",
            "Epoch 31/40\n",
            "\u001b[1m54/54\u001b[0m \u001b[32m━━━━━━━━━━━━━━━━━━━━\u001b[0m\u001b[37m\u001b[0m \u001b[1m1s\u001b[0m 21ms/step - accuracy: 0.8986 - loss: 0.2779\n",
            "Epoch 32/40\n",
            "\u001b[1m54/54\u001b[0m \u001b[32m━━━━━━━━━━━━━━━━━━━━\u001b[0m\u001b[37m\u001b[0m \u001b[1m1s\u001b[0m 22ms/step - accuracy: 0.8634 - loss: 0.3240\n",
            "Epoch 33/40\n",
            "\u001b[1m54/54\u001b[0m \u001b[32m━━━━━━━━━━━━━━━━━━━━\u001b[0m\u001b[37m\u001b[0m \u001b[1m1s\u001b[0m 22ms/step - accuracy: 0.8818 - loss: 0.2853\n",
            "Epoch 34/40\n",
            "\u001b[1m54/54\u001b[0m \u001b[32m━━━━━━━━━━━━━━━━━━━━\u001b[0m\u001b[37m\u001b[0m \u001b[1m1s\u001b[0m 21ms/step - accuracy: 0.8878 - loss: 0.2725\n",
            "Epoch 35/40\n",
            "\u001b[1m54/54\u001b[0m \u001b[32m━━━━━━━━━━━━━━━━━━━━\u001b[0m\u001b[37m\u001b[0m \u001b[1m1s\u001b[0m 22ms/step - accuracy: 0.9107 - loss: 0.2394\n",
            "Epoch 36/40\n",
            "\u001b[1m54/54\u001b[0m \u001b[32m━━━━━━━━━━━━━━━━━━━━\u001b[0m\u001b[37m\u001b[0m \u001b[1m1s\u001b[0m 21ms/step - accuracy: 0.8996 - loss: 0.2413\n",
            "Epoch 37/40\n",
            "\u001b[1m54/54\u001b[0m \u001b[32m━━━━━━━━━━━━━━━━━━━━\u001b[0m\u001b[37m\u001b[0m \u001b[1m1s\u001b[0m 21ms/step - accuracy: 0.9087 - loss: 0.2313\n",
            "Epoch 38/40\n",
            "\u001b[1m54/54\u001b[0m \u001b[32m━━━━━━━━━━━━━━━━━━━━\u001b[0m\u001b[37m\u001b[0m \u001b[1m1s\u001b[0m 21ms/step - accuracy: 0.8751 - loss: 0.3149\n",
            "Epoch 39/40\n",
            "\u001b[1m54/54\u001b[0m \u001b[32m━━━━━━━━━━━━━━━━━━━━\u001b[0m\u001b[37m\u001b[0m \u001b[1m1s\u001b[0m 21ms/step - accuracy: 0.9147 - loss: 0.2255\n",
            "Epoch 40/40\n",
            "\u001b[1m54/54\u001b[0m \u001b[32m━━━━━━━━━━━━━━━━━━━━\u001b[0m\u001b[37m\u001b[0m \u001b[1m1s\u001b[0m 21ms/step - accuracy: 0.9295 - loss: 0.2048\n"
          ]
        },
        {
          "output_type": "execute_result",
          "data": {
            "text/plain": [
              "<keras.src.callbacks.history.History at 0x79fd49912010>"
            ]
          },
          "metadata": {},
          "execution_count": 14
        }
      ]
    },
    {
      "cell_type": "markdown",
      "source": [
        "**RNN Train**"
      ],
      "metadata": {
        "id": "_hgIne4Kejo6"
      }
    },
    {
      "cell_type": "code",
      "source": [
        "# Evaluate the RNN model on the training set\n",
        "train_pred = rnn_model.predict(X_train_fold)\n",
        "train_pred_classes =  np.round(train_pred).astype(int)\n",
        "\n",
        "\n",
        "# Performance metrics for training set\n",
        "train_accuracy = accuracy_score(Y_train_fold, train_pred_classes)\n",
        "train_mcc = matthews_corrcoef(Y_train_fold, train_pred_classes)\n",
        "train_kappa = cohen_kappa_score(Y_train_fold, train_pred_classes)\n",
        "train_precision = precision_score(Y_train_fold, train_pred_classes)\n",
        "train_f1 = f1_score(Y_train_fold, train_pred_classes)\n",
        "train_cm = confusion_matrix(Y_train_fold, train_pred_classes)\n",
        "train_specificity = train_cm[0, 0] / (train_cm[0, 0] + train_cm[0, 1])\n",
        "train_sensitivity = train_cm[1, 1] / (train_cm[1, 0] + train_cm[1, 1])\n",
        "\n",
        "print(\"\\nTraining Metrics:\")\n",
        "print(f\"Accuracy: {train_accuracy}\")\n",
        "print(f\"Matthews Correlation Coefficient (MCC): {train_mcc}\")\n",
        "print(f\"Kappa: {train_kappa}\")\n",
        "print(f\"Precision: {train_precision}\")\n",
        "print(f\"F1 Score: {train_f1}\")\n",
        "print(f\"Specificity: {train_specificity}\")\n",
        "print(f\"Sensitivity: {train_sensitivity}\")"
      ],
      "metadata": {
        "colab": {
          "base_uri": "https://localhost:8080/"
        },
        "id": "9sXFeNeOejFo",
        "outputId": "d91f39e4-fd41-47b7-a10b-d5e4948ad9a8"
      },
      "execution_count": null,
      "outputs": [
        {
          "output_type": "stream",
          "name": "stdout",
          "text": [
            "\u001b[1m85/85\u001b[0m \u001b[32m━━━━━━━━━━━━━━━━━━━━\u001b[0m\u001b[37m\u001b[0m \u001b[1m2s\u001b[0m 14ms/step\n",
            "\n",
            "Training Metrics:\n",
            "Accuracy: 0.9436671575846833\n",
            "Matthews Correlation Coefficient (MCC): 0.8874652665621816\n",
            "Kappa: 0.8873379806357579\n",
            "Precision: 0.9361393323657474\n",
            "F1 Score: 0.9440175631174533\n",
            "Specificity: 0.9353416605437178\n",
            "Sensitivity: 0.9520295202952029\n"
          ]
        }
      ]
    },
    {
      "cell_type": "markdown",
      "source": [
        "**RNN Test**"
      ],
      "metadata": {
        "id": "SY1Ma9_9eveD"
      }
    },
    {
      "cell_type": "code",
      "source": [
        "# Evaluate the RNN model on the test set\n",
        "test_pred = rnn_model.predict(X_test1)\n",
        "test_pred_classes = (test_pred > 0.5).astype(int)\n",
        "\n",
        "\n",
        "# Performance metrics for test set\n",
        "test_accuracy = accuracy_score(Y_test1, test_pred_classes)\n",
        "test_mcc = matthews_corrcoef(Y_test1, test_pred_classes)\n",
        "test_kappa = cohen_kappa_score(Y_test1, test_pred_classes)\n",
        "test_precision = precision_score(Y_test1, test_pred_classes)\n",
        "test_f1 = f1_score(Y_test1, test_pred_classes)\n",
        "test_cm = confusion_matrix(Y_test1, test_pred_classes)\n",
        "test_specificity = test_cm[0, 0] / (test_cm[0, 0] + test_cm[0, 1])\n",
        "test_sensitivity = test_cm[1, 1] / (test_cm[1, 0] + test_cm[1, 1])\n",
        "\n",
        "print(\"\\nTest Metrics:\")\n",
        "print(f\"Accuracy: {test_accuracy}\")\n",
        "print(f\"Matthews Correlation Coefficient (MCC): {test_mcc}\")\n",
        "print(f\"Kappa: {test_kappa}\")\n",
        "print(f\"Precision: {test_precision}\")\n",
        "print(f\"F1 Score: {test_f1}\")\n",
        "print(f\"Specificity: {test_specificity}\")\n",
        "print(f\"Sensitivity: {test_sensitivity}\")"
      ],
      "metadata": {
        "colab": {
          "base_uri": "https://localhost:8080/"
        },
        "id": "ii7CH8VKezLZ",
        "outputId": "24ee2755-43f5-4a68-e5fb-5d09f4df9769"
      },
      "execution_count": null,
      "outputs": [
        {
          "output_type": "stream",
          "name": "stdout",
          "text": [
            "\u001b[1m46/46\u001b[0m \u001b[32m━━━━━━━━━━━━━━━━━━━━\u001b[0m\u001b[37m\u001b[0m \u001b[1m1s\u001b[0m 17ms/step\n",
            "\n",
            "Test Metrics:\n",
            "Accuracy: 0.8096219931271478\n",
            "Matthews Correlation Coefficient (MCC): 0.6203902844154423\n",
            "Kappa: 0.6194993877587628\n",
            "Precision: 0.7870619946091644\n",
            "F1 Score: 0.8083044982698961\n",
            "Specificity: 0.7898936170212766\n",
            "Sensitivity: 0.8307254623044097\n"
          ]
        }
      ]
    },
    {
      "cell_type": "markdown",
      "source": [
        "# **GRU**"
      ],
      "metadata": {
        "id": "Jerwoawce_0B"
      }
    },
    {
      "cell_type": "code",
      "source": [
        "from tensorflow.keras.layers import GRU, Dense, Dropout\n",
        "\n",
        "\n",
        "# Build the GRU model\n",
        "gru_model = Sequential()\n",
        "gru_model.add(GRU(64, return_sequences=True, input_shape=(X_train1.shape[1], 1), activation='relu'))\n",
        "gru_model.add(GRU(64, activation='relu'))\n",
        "gru_model.add(Dropout(0.5))  # Helps prevent overfitting\n",
        "gru_model.add(Dense(128, activation='relu'))\n",
        "gru_model.add(Dense(64, activation='relu'))\n",
        "gru_model.add(Dense(1, activation='sigmoid'))  # Output layer for binary classification\n",
        "\n",
        "# Compile the GRU model\n",
        "gru_model.compile(optimizer='adam', loss='binary_crossentropy', metrics=['accuracy'])\n",
        "\n",
        "# Train the GRU model\n",
        "gru_model.fit(X_train1, Y_train1, epochs=40, batch_size=64, verbose=1)"
      ],
      "metadata": {
        "colab": {
          "base_uri": "https://localhost:8080/"
        },
        "id": "Ecct8E2he_WC",
        "outputId": "e6299bba-22b6-4bf3-95cf-4cf00b1a80bb"
      },
      "execution_count": null,
      "outputs": [
        {
          "output_type": "stream",
          "name": "stdout",
          "text": [
            "Epoch 1/40\n"
          ]
        },
        {
          "output_type": "stream",
          "name": "stderr",
          "text": [
            "/usr/local/lib/python3.11/dist-packages/keras/src/layers/rnn/rnn.py:200: UserWarning: Do not pass an `input_shape`/`input_dim` argument to a layer. When using Sequential models, prefer using an `Input(shape)` object as the first layer in the model instead.\n",
            "  super().__init__(**kwargs)\n"
          ]
        },
        {
          "output_type": "stream",
          "name": "stdout",
          "text": [
            "\u001b[1m54/54\u001b[0m \u001b[32m━━━━━━━━━━━━━━━━━━━━\u001b[0m\u001b[37m\u001b[0m \u001b[1m12s\u001b[0m 77ms/step - accuracy: 0.5307 - loss: 0.6907\n",
            "Epoch 2/40\n",
            "\u001b[1m54/54\u001b[0m \u001b[32m━━━━━━━━━━━━━━━━━━━━\u001b[0m\u001b[37m\u001b[0m \u001b[1m5s\u001b[0m 31ms/step - accuracy: 0.5702 - loss: 0.6810\n",
            "Epoch 3/40\n",
            "\u001b[1m54/54\u001b[0m \u001b[32m━━━━━━━━━━━━━━━━━━━━\u001b[0m\u001b[37m\u001b[0m \u001b[1m2s\u001b[0m 28ms/step - accuracy: 0.5990 - loss: 0.6699\n",
            "Epoch 4/40\n",
            "\u001b[1m54/54\u001b[0m \u001b[32m━━━━━━━━━━━━━━━━━━━━\u001b[0m\u001b[37m\u001b[0m \u001b[1m3s\u001b[0m 28ms/step - accuracy: 0.6162 - loss: 0.6617\n",
            "Epoch 5/40\n",
            "\u001b[1m54/54\u001b[0m \u001b[32m━━━━━━━━━━━━━━━━━━━━\u001b[0m\u001b[37m\u001b[0m \u001b[1m2s\u001b[0m 28ms/step - accuracy: 0.6233 - loss: 0.6531\n",
            "Epoch 6/40\n",
            "\u001b[1m54/54\u001b[0m \u001b[32m━━━━━━━━━━━━━━━━━━━━\u001b[0m\u001b[37m\u001b[0m \u001b[1m2s\u001b[0m 34ms/step - accuracy: 0.6268 - loss: 0.6523\n",
            "Epoch 7/40\n",
            "\u001b[1m54/54\u001b[0m \u001b[32m━━━━━━━━━━━━━━━━━━━━\u001b[0m\u001b[37m\u001b[0m \u001b[1m3s\u001b[0m 40ms/step - accuracy: 0.6185 - loss: 0.6454\n",
            "Epoch 8/40\n",
            "\u001b[1m54/54\u001b[0m \u001b[32m━━━━━━━━━━━━━━━━━━━━\u001b[0m\u001b[37m\u001b[0m \u001b[1m2s\u001b[0m 36ms/step - accuracy: 0.5959 - loss: 0.6619\n",
            "Epoch 9/40\n",
            "\u001b[1m54/54\u001b[0m \u001b[32m━━━━━━━━━━━━━━━━━━━━\u001b[0m\u001b[37m\u001b[0m \u001b[1m2s\u001b[0m 34ms/step - accuracy: 0.6443 - loss: 0.6401\n",
            "Epoch 10/40\n",
            "\u001b[1m54/54\u001b[0m \u001b[32m━━━━━━━━━━━━━━━━━━━━\u001b[0m\u001b[37m\u001b[0m \u001b[1m2s\u001b[0m 29ms/step - accuracy: 0.6258 - loss: 0.6575\n",
            "Epoch 11/40\n",
            "\u001b[1m54/54\u001b[0m \u001b[32m━━━━━━━━━━━━━━━━━━━━\u001b[0m\u001b[37m\u001b[0m \u001b[1m2s\u001b[0m 28ms/step - accuracy: 0.6065 - loss: 0.6897\n",
            "Epoch 12/40\n",
            "\u001b[1m54/54\u001b[0m \u001b[32m━━━━━━━━━━━━━━━━━━━━\u001b[0m\u001b[37m\u001b[0m \u001b[1m3s\u001b[0m 28ms/step - accuracy: 0.6151 - loss: 0.6507\n",
            "Epoch 13/40\n",
            "\u001b[1m54/54\u001b[0m \u001b[32m━━━━━━━━━━━━━━━━━━━━\u001b[0m\u001b[37m\u001b[0m \u001b[1m3s\u001b[0m 29ms/step - accuracy: 0.6416 - loss: 0.6362\n",
            "Epoch 14/40\n",
            "\u001b[1m54/54\u001b[0m \u001b[32m━━━━━━━━━━━━━━━━━━━━\u001b[0m\u001b[37m\u001b[0m \u001b[1m3s\u001b[0m 29ms/step - accuracy: 0.6536 - loss: 0.6249\n",
            "Epoch 15/40\n",
            "\u001b[1m54/54\u001b[0m \u001b[32m━━━━━━━━━━━━━━━━━━━━\u001b[0m\u001b[37m\u001b[0m \u001b[1m2s\u001b[0m 28ms/step - accuracy: 0.6744 - loss: 0.6099\n",
            "Epoch 16/40\n",
            "\u001b[1m54/54\u001b[0m \u001b[32m━━━━━━━━━━━━━━━━━━━━\u001b[0m\u001b[37m\u001b[0m \u001b[1m3s\u001b[0m 29ms/step - accuracy: 0.6737 - loss: 0.6057\n",
            "Epoch 17/40\n",
            "\u001b[1m54/54\u001b[0m \u001b[32m━━━━━━━━━━━━━━━━━━━━\u001b[0m\u001b[37m\u001b[0m \u001b[1m2s\u001b[0m 28ms/step - accuracy: 0.6774 - loss: 0.6047\n",
            "Epoch 18/40\n",
            "\u001b[1m54/54\u001b[0m \u001b[32m━━━━━━━━━━━━━━━━━━━━\u001b[0m\u001b[37m\u001b[0m \u001b[1m2s\u001b[0m 29ms/step - accuracy: 0.6741 - loss: 0.6016\n",
            "Epoch 19/40\n",
            "\u001b[1m54/54\u001b[0m \u001b[32m━━━━━━━━━━━━━━━━━━━━\u001b[0m\u001b[37m\u001b[0m \u001b[1m3s\u001b[0m 29ms/step - accuracy: 0.7019 - loss: 0.5828\n",
            "Epoch 20/40\n",
            "\u001b[1m54/54\u001b[0m \u001b[32m━━━━━━━━━━━━━━━━━━━━\u001b[0m\u001b[37m\u001b[0m \u001b[1m2s\u001b[0m 29ms/step - accuracy: 0.7177 - loss: 0.5613\n",
            "Epoch 21/40\n",
            "\u001b[1m54/54\u001b[0m \u001b[32m━━━━━━━━━━━━━━━━━━━━\u001b[0m\u001b[37m\u001b[0m \u001b[1m3s\u001b[0m 28ms/step - accuracy: 0.7083 - loss: 0.5653\n",
            "Epoch 22/40\n",
            "\u001b[1m54/54\u001b[0m \u001b[32m━━━━━━━━━━━━━━━━━━━━\u001b[0m\u001b[37m\u001b[0m \u001b[1m2s\u001b[0m 28ms/step - accuracy: 0.6966 - loss: 0.5755\n",
            "Epoch 23/40\n",
            "\u001b[1m54/54\u001b[0m \u001b[32m━━━━━━━━━━━━━━━━━━━━\u001b[0m\u001b[37m\u001b[0m \u001b[1m3s\u001b[0m 29ms/step - accuracy: 0.6949 - loss: 0.5704\n",
            "Epoch 24/40\n",
            "\u001b[1m54/54\u001b[0m \u001b[32m━━━━━━━━━━━━━━━━━━━━\u001b[0m\u001b[37m\u001b[0m \u001b[1m2s\u001b[0m 28ms/step - accuracy: 0.6858 - loss: 0.5822\n",
            "Epoch 25/40\n",
            "\u001b[1m54/54\u001b[0m \u001b[32m━━━━━━━━━━━━━━━━━━━━\u001b[0m\u001b[37m\u001b[0m \u001b[1m3s\u001b[0m 28ms/step - accuracy: 0.7094 - loss: 0.5714\n",
            "Epoch 26/40\n",
            "\u001b[1m54/54\u001b[0m \u001b[32m━━━━━━━━━━━━━━━━━━━━\u001b[0m\u001b[37m\u001b[0m \u001b[1m3s\u001b[0m 29ms/step - accuracy: 0.7085 - loss: 0.5636\n",
            "Epoch 27/40\n",
            "\u001b[1m54/54\u001b[0m \u001b[32m━━━━━━━━━━━━━━━━━━━━\u001b[0m\u001b[37m\u001b[0m \u001b[1m2s\u001b[0m 29ms/step - accuracy: 0.7080 - loss: 0.5675\n",
            "Epoch 28/40\n",
            "\u001b[1m54/54\u001b[0m \u001b[32m━━━━━━━━━━━━━━━━━━━━\u001b[0m\u001b[37m\u001b[0m \u001b[1m3s\u001b[0m 28ms/step - accuracy: 0.7160 - loss: 0.5478\n",
            "Epoch 29/40\n",
            "\u001b[1m54/54\u001b[0m \u001b[32m━━━━━━━━━━━━━━━━━━━━\u001b[0m\u001b[37m\u001b[0m \u001b[1m3s\u001b[0m 28ms/step - accuracy: 0.7120 - loss: 0.5589\n",
            "Epoch 30/40\n",
            "\u001b[1m54/54\u001b[0m \u001b[32m━━━━━━━━━━━━━━━━━━━━\u001b[0m\u001b[37m\u001b[0m \u001b[1m3s\u001b[0m 28ms/step - accuracy: 0.7319 - loss: 0.5421\n",
            "Epoch 31/40\n",
            "\u001b[1m54/54\u001b[0m \u001b[32m━━━━━━━━━━━━━━━━━━━━\u001b[0m\u001b[37m\u001b[0m \u001b[1m3s\u001b[0m 29ms/step - accuracy: 0.7295 - loss: 0.5351\n",
            "Epoch 32/40\n",
            "\u001b[1m54/54\u001b[0m \u001b[32m━━━━━━━━━━━━━━━━━━━━\u001b[0m\u001b[37m\u001b[0m \u001b[1m3s\u001b[0m 29ms/step - accuracy: 0.7441 - loss: 0.5259\n",
            "Epoch 33/40\n",
            "\u001b[1m54/54\u001b[0m \u001b[32m━━━━━━━━━━━━━━━━━━━━\u001b[0m\u001b[37m\u001b[0m \u001b[1m2s\u001b[0m 28ms/step - accuracy: 0.7467 - loss: 0.5165\n",
            "Epoch 34/40\n",
            "\u001b[1m54/54\u001b[0m \u001b[32m━━━━━━━━━━━━━━━━━━━━\u001b[0m\u001b[37m\u001b[0m \u001b[1m2s\u001b[0m 28ms/step - accuracy: 0.7147 - loss: 0.5573\n",
            "Epoch 35/40\n",
            "\u001b[1m54/54\u001b[0m \u001b[32m━━━━━━━━━━━━━━━━━━━━\u001b[0m\u001b[37m\u001b[0m \u001b[1m2s\u001b[0m 28ms/step - accuracy: 0.7441 - loss: 0.5161\n",
            "Epoch 36/40\n",
            "\u001b[1m54/54\u001b[0m \u001b[32m━━━━━━━━━━━━━━━━━━━━\u001b[0m\u001b[37m\u001b[0m \u001b[1m2s\u001b[0m 28ms/step - accuracy: 0.7530 - loss: 0.5134\n",
            "Epoch 37/40\n",
            "\u001b[1m54/54\u001b[0m \u001b[32m━━━━━━━━━━━━━━━━━━━━\u001b[0m\u001b[37m\u001b[0m \u001b[1m2s\u001b[0m 28ms/step - accuracy: 0.7505 - loss: 0.5155\n",
            "Epoch 38/40\n",
            "\u001b[1m54/54\u001b[0m \u001b[32m━━━━━━━━━━━━━━━━━━━━\u001b[0m\u001b[37m\u001b[0m \u001b[1m2s\u001b[0m 28ms/step - accuracy: 0.7405 - loss: 0.5194\n",
            "Epoch 39/40\n",
            "\u001b[1m54/54\u001b[0m \u001b[32m━━━━━━━━━━━━━━━━━━━━\u001b[0m\u001b[37m\u001b[0m \u001b[1m3s\u001b[0m 29ms/step - accuracy: 0.7433 - loss: 0.5098\n",
            "Epoch 40/40\n",
            "\u001b[1m54/54\u001b[0m \u001b[32m━━━━━━━━━━━━━━━━━━━━\u001b[0m\u001b[37m\u001b[0m \u001b[1m3s\u001b[0m 28ms/step - accuracy: 0.7614 - loss: 0.5103\n"
          ]
        },
        {
          "output_type": "execute_result",
          "data": {
            "text/plain": [
              "<keras.src.callbacks.history.History at 0x79fcf8578d90>"
            ]
          },
          "metadata": {},
          "execution_count": 17
        }
      ]
    },
    {
      "cell_type": "markdown",
      "source": [
        " **GRU Train**"
      ],
      "metadata": {
        "id": "ZBZSI-ACfJ3G"
      }
    },
    {
      "cell_type": "code",
      "source": [
        "# Evaluate the GRU model on the training set\n",
        "train_pred = gru_model.predict(X_train_fold)\n",
        "train_pred_classes =  np.round(train_pred).astype(int)\n",
        "\n",
        "\n",
        "# Performance metrics for training set\n",
        "train_accuracy = accuracy_score(Y_train_fold, train_pred_classes)\n",
        "train_mcc = matthews_corrcoef(Y_train_fold, train_pred_classes)\n",
        "train_kappa = cohen_kappa_score(Y_train_fold, train_pred_classes)\n",
        "train_precision = precision_score(Y_train_fold, train_pred_classes)\n",
        "train_f1 = f1_score(Y_train_fold, train_pred_classes)\n",
        "train_cm = confusion_matrix(Y_train_fold, train_pred_classes)\n",
        "train_specificity = train_cm[0, 0] / (train_cm[0, 0] + train_cm[0, 1])\n",
        "train_sensitivity = train_cm[1, 1] / (train_cm[1, 0] + train_cm[1, 1])\n",
        "\n",
        "print(\"\\nTraining Metrics:\")\n",
        "print(f\"Accuracy: {train_accuracy}\")\n",
        "print(f\"Matthews Correlation Coefficient (MCC): {train_mcc}\")\n",
        "print(f\"Kappa: {train_kappa}\")\n",
        "print(f\"Precision: {train_precision}\")\n",
        "print(f\"F1 Score: {train_f1}\")\n",
        "print(f\"Specificity: {train_specificity}\")\n",
        "print(f\"Sensitivity: {train_sensitivity}\")"
      ],
      "metadata": {
        "colab": {
          "base_uri": "https://localhost:8080/"
        },
        "id": "u95U1iu3fOGR",
        "outputId": "95b170e3-ec2b-40b3-f091-8411544ec084"
      },
      "execution_count": null,
      "outputs": [
        {
          "output_type": "stream",
          "name": "stdout",
          "text": [
            "\u001b[1m85/85\u001b[0m \u001b[32m━━━━━━━━━━━━━━━━━━━━\u001b[0m\u001b[37m\u001b[0m \u001b[1m2s\u001b[0m 18ms/step\n",
            "\n",
            "Training Metrics:\n",
            "Accuracy: 0.7540500736377025\n",
            "Matthews Correlation Coefficient (MCC): 0.5119741030317658\n",
            "Kappa: 0.5082289457007221\n",
            "Precision: 0.7261356155365372\n",
            "F1 Score: 0.767571329157968\n",
            "Specificity: 0.6943423952975754\n",
            "Sensitivity: 0.8140221402214022\n"
          ]
        }
      ]
    },
    {
      "cell_type": "markdown",
      "source": [
        "**GRU Test**"
      ],
      "metadata": {
        "id": "0ydWJfYcfSOx"
      }
    },
    {
      "cell_type": "code",
      "source": [
        "# Evaluate the GRU model on the test set\n",
        "test_pred = gru_model.predict(X_test1)\n",
        "test_pred_classes = (test_pred > 0.5).astype(int)\n",
        "\n",
        "\n",
        "# Performance metrics for test set\n",
        "test_accuracy = accuracy_score(Y_test1, test_pred_classes)\n",
        "test_mcc = matthews_corrcoef(Y_test1, test_pred_classes)\n",
        "test_kappa = cohen_kappa_score(Y_test1, test_pred_classes)\n",
        "test_precision = precision_score(Y_test1, test_pred_classes)\n",
        "test_f1 = f1_score(Y_test1, test_pred_classes)\n",
        "test_cm = confusion_matrix(Y_test1, test_pred_classes)\n",
        "test_specificity = test_cm[0, 0] / (test_cm[0, 0] + test_cm[0, 1])\n",
        "test_sensitivity = test_cm[1, 1] / (test_cm[1, 0] + test_cm[1, 1])\n",
        "\n",
        "print(\"\\nTest Metrics:\")\n",
        "print(f\"Accuracy: {test_accuracy}\")\n",
        "print(f\"Matthews Correlation Coefficient (MCC): {test_mcc}\")\n",
        "print(f\"Kappa: {test_kappa}\")\n",
        "print(f\"Precision: {test_precision}\")\n",
        "print(f\"F1 Score: {test_f1}\")\n",
        "print(f\"Specificity: {test_specificity}\")\n",
        "print(f\"Sensitivity: {test_sensitivity}\")"
      ],
      "metadata": {
        "colab": {
          "base_uri": "https://localhost:8080/"
        },
        "id": "cxvp2MGPfR0C",
        "outputId": "a007e336-a847-4ccc-9c7e-cd415039ca5d"
      },
      "execution_count": null,
      "outputs": [
        {
          "output_type": "stream",
          "name": "stdout",
          "text": [
            "\u001b[1m46/46\u001b[0m \u001b[32m━━━━━━━━━━━━━━━━━━━━\u001b[0m\u001b[37m\u001b[0m \u001b[1m1s\u001b[0m 17ms/step\n",
            "\n",
            "Test Metrics:\n",
            "Accuracy: 0.7326460481099656\n",
            "Matthews Correlation Coefficient (MCC): 0.4712601767110722\n",
            "Kappa: 0.46708064007381844\n",
            "Precision: 0.69625\n",
            "F1 Score: 0.7411842980705257\n",
            "Specificity: 0.6768617021276596\n",
            "Sensitivity: 0.7923186344238976\n"
          ]
        }
      ]
    },
    {
      "cell_type": "markdown",
      "source": [
        "# **CNN+RNN = Deep_NUP_Pred**"
      ],
      "metadata": {
        "id": "fGsTDPQWfd2i"
      }
    },
    {
      "cell_type": "code",
      "source": [
        "# Build the CNN model\n",
        "cnn_rnn= Sequential()\n",
        "cnn_rnn.add(Conv1D(filters=64, kernel_size=2, activation='relu', input_shape=(X_train1.shape[1], 1)))\n",
        "cnn_rnn.add(Conv1D(filters=128, kernel_size=2, activation='relu'))\n",
        "cnn_rnn.add(Conv1D(filters=128, kernel_size=2, activation='relu'))#new\n",
        "cnn_rnn.add(Conv1D(filters=128, kernel_size=2, activation='relu'))\n",
        "cnn_rnn.add(MaxPool1D(pool_size=2))\n",
        "cnn_rnn.add(Flatten())\n",
        "cnn_rnn.add(Dense(128, activation='relu'))\n",
        "cnn_rnn.add(Dense(128, activation='relu'))#new\n",
        "cnn_rnn.add(Dense(64, activation='relu'))\n",
        "\n",
        "# Add Simple RNN layer\n",
        "cnn_rnn.add(Reshape((1, 64)))  # Flatten the output before passing to RNN\n",
        "cnn_rnn.add(SimpleRNN(128, activation='relu', return_sequences=True))#new\n",
        "cnn_rnn.add(SimpleRNN(64, activation='relu' ))\n",
        "cnn_rnn.add(Dense(1, activation='sigmoid'))\n",
        "# Compile and train the model\n",
        "cnn_rnn.compile(optimizer='adam', loss='binary_crossentropy', metrics=['accuracy'])\n",
        "cnn_rnn.fit(X_train1, Y_train1, epochs=40, batch_size=64, verbose=1)"
      ],
      "metadata": {
        "colab": {
          "base_uri": "https://localhost:8080/"
        },
        "id": "cI_xnxLyfbLD",
        "outputId": "b17dfe33-c0b2-4d89-fda3-9adc1257609b"
      },
      "execution_count": null,
      "outputs": [
        {
          "output_type": "stream",
          "name": "stderr",
          "text": [
            "/usr/local/lib/python3.11/dist-packages/keras/src/layers/convolutional/base_conv.py:107: UserWarning: Do not pass an `input_shape`/`input_dim` argument to a layer. When using Sequential models, prefer using an `Input(shape)` object as the first layer in the model instead.\n",
            "  super().__init__(activity_regularizer=activity_regularizer, **kwargs)\n"
          ]
        },
        {
          "output_type": "stream",
          "name": "stdout",
          "text": [
            "Epoch 1/40\n",
            "\u001b[1m54/54\u001b[0m \u001b[32m━━━━━━━━━━━━━━━━━━━━\u001b[0m\u001b[37m\u001b[0m \u001b[1m12s\u001b[0m 53ms/step - accuracy: 0.6103 - loss: 0.6463\n",
            "Epoch 2/40\n",
            "\u001b[1m54/54\u001b[0m \u001b[32m━━━━━━━━━━━━━━━━━━━━\u001b[0m\u001b[37m\u001b[0m \u001b[1m4s\u001b[0m 9ms/step - accuracy: 0.7649 - loss: 0.5406\n",
            "Epoch 3/40\n",
            "\u001b[1m54/54\u001b[0m \u001b[32m━━━━━━━━━━━━━━━━━━━━\u001b[0m\u001b[37m\u001b[0m \u001b[1m1s\u001b[0m 8ms/step - accuracy: 0.8461 - loss: 0.3526\n",
            "Epoch 4/40\n",
            "\u001b[1m54/54\u001b[0m \u001b[32m━━━━━━━━━━━━━━━━━━━━\u001b[0m\u001b[37m\u001b[0m \u001b[1m1s\u001b[0m 8ms/step - accuracy: 0.8760 - loss: 0.2960\n",
            "Epoch 5/40\n",
            "\u001b[1m54/54\u001b[0m \u001b[32m━━━━━━━━━━━━━━━━━━━━\u001b[0m\u001b[37m\u001b[0m \u001b[1m0s\u001b[0m 8ms/step - accuracy: 0.9272 - loss: 0.1917\n",
            "Epoch 6/40\n",
            "\u001b[1m54/54\u001b[0m \u001b[32m━━━━━━━━━━━━━━━━━━━━\u001b[0m\u001b[37m\u001b[0m \u001b[1m1s\u001b[0m 8ms/step - accuracy: 0.9649 - loss: 0.1050\n",
            "Epoch 7/40\n",
            "\u001b[1m54/54\u001b[0m \u001b[32m━━━━━━━━━━━━━━━━━━━━\u001b[0m\u001b[37m\u001b[0m \u001b[1m1s\u001b[0m 8ms/step - accuracy: 0.9551 - loss: 0.1219\n",
            "Epoch 8/40\n",
            "\u001b[1m54/54\u001b[0m \u001b[32m━━━━━━━━━━━━━━━━━━━━\u001b[0m\u001b[37m\u001b[0m \u001b[1m0s\u001b[0m 8ms/step - accuracy: 0.9852 - loss: 0.0429\n",
            "Epoch 9/40\n",
            "\u001b[1m54/54\u001b[0m \u001b[32m━━━━━━━━━━━━━━━━━━━━\u001b[0m\u001b[37m\u001b[0m \u001b[1m0s\u001b[0m 8ms/step - accuracy: 0.9925 - loss: 0.0286\n",
            "Epoch 10/40\n",
            "\u001b[1m54/54\u001b[0m \u001b[32m━━━━━━━━━━━━━━━━━━━━\u001b[0m\u001b[37m\u001b[0m \u001b[1m0s\u001b[0m 7ms/step - accuracy: 0.9713 - loss: 0.0890\n",
            "Epoch 11/40\n",
            "\u001b[1m54/54\u001b[0m \u001b[32m━━━━━━━━━━━━━━━━━━━━\u001b[0m\u001b[37m\u001b[0m \u001b[1m1s\u001b[0m 7ms/step - accuracy: 0.9961 - loss: 0.0149\n",
            "Epoch 12/40\n",
            "\u001b[1m54/54\u001b[0m \u001b[32m━━━━━━━━━━━━━━━━━━━━\u001b[0m\u001b[37m\u001b[0m \u001b[1m1s\u001b[0m 7ms/step - accuracy: 0.9969 - loss: 0.0053\n",
            "Epoch 13/40\n",
            "\u001b[1m54/54\u001b[0m \u001b[32m━━━━━━━━━━━━━━━━━━━━\u001b[0m\u001b[37m\u001b[0m \u001b[1m1s\u001b[0m 7ms/step - accuracy: 0.9973 - loss: 0.0076\n",
            "Epoch 14/40\n",
            "\u001b[1m54/54\u001b[0m \u001b[32m━━━━━━━━━━━━━━━━━━━━\u001b[0m\u001b[37m\u001b[0m \u001b[1m0s\u001b[0m 7ms/step - accuracy: 0.9868 - loss: 0.0358\n",
            "Epoch 15/40\n",
            "\u001b[1m54/54\u001b[0m \u001b[32m━━━━━━━━━━━━━━━━━━━━\u001b[0m\u001b[37m\u001b[0m \u001b[1m0s\u001b[0m 7ms/step - accuracy: 0.9963 - loss: 0.0155\n",
            "Epoch 16/40\n",
            "\u001b[1m54/54\u001b[0m \u001b[32m━━━━━━━━━━━━━━━━━━━━\u001b[0m\u001b[37m\u001b[0m \u001b[1m0s\u001b[0m 7ms/step - accuracy: 0.9968 - loss: 0.0101\n",
            "Epoch 17/40\n",
            "\u001b[1m54/54\u001b[0m \u001b[32m━━━━━━━━━━━━━━━━━━━━\u001b[0m\u001b[37m\u001b[0m \u001b[1m1s\u001b[0m 7ms/step - accuracy: 0.9915 - loss: 0.0227\n",
            "Epoch 18/40\n",
            "\u001b[1m54/54\u001b[0m \u001b[32m━━━━━━━━━━━━━━━━━━━━\u001b[0m\u001b[37m\u001b[0m \u001b[1m1s\u001b[0m 7ms/step - accuracy: 0.9874 - loss: 0.0363\n",
            "Epoch 19/40\n",
            "\u001b[1m54/54\u001b[0m \u001b[32m━━━━━━━━━━━━━━━━━━━━\u001b[0m\u001b[37m\u001b[0m \u001b[1m1s\u001b[0m 7ms/step - accuracy: 0.9960 - loss: 0.0127\n",
            "Epoch 20/40\n",
            "\u001b[1m54/54\u001b[0m \u001b[32m━━━━━━━━━━━━━━━━━━━━\u001b[0m\u001b[37m\u001b[0m \u001b[1m1s\u001b[0m 7ms/step - accuracy: 0.9648 - loss: 0.1144\n",
            "Epoch 21/40\n",
            "\u001b[1m54/54\u001b[0m \u001b[32m━━━━━━━━━━━━━━━━━━━━\u001b[0m\u001b[37m\u001b[0m \u001b[1m1s\u001b[0m 7ms/step - accuracy: 0.9955 - loss: 0.0090\n",
            "Epoch 22/40\n",
            "\u001b[1m54/54\u001b[0m \u001b[32m━━━━━━━━━━━━━━━━━━━━\u001b[0m\u001b[37m\u001b[0m \u001b[1m0s\u001b[0m 7ms/step - accuracy: 0.9980 - loss: 0.0071\n",
            "Epoch 23/40\n",
            "\u001b[1m54/54\u001b[0m \u001b[32m━━━━━━━━━━━━━━━━━━━━\u001b[0m\u001b[37m\u001b[0m \u001b[1m1s\u001b[0m 7ms/step - accuracy: 0.9973 - loss: 0.0111\n",
            "Epoch 24/40\n",
            "\u001b[1m54/54\u001b[0m \u001b[32m━━━━━━━━━━━━━━━━━━━━\u001b[0m\u001b[37m\u001b[0m \u001b[1m1s\u001b[0m 7ms/step - accuracy: 0.9993 - loss: 0.0023\n",
            "Epoch 25/40\n",
            "\u001b[1m54/54\u001b[0m \u001b[32m━━━━━━━━━━━━━━━━━━━━\u001b[0m\u001b[37m\u001b[0m \u001b[1m1s\u001b[0m 7ms/step - accuracy: 0.9976 - loss: 0.0079\n",
            "Epoch 26/40\n",
            "\u001b[1m54/54\u001b[0m \u001b[32m━━━━━━━━━━━━━━━━━━━━\u001b[0m\u001b[37m\u001b[0m \u001b[1m0s\u001b[0m 7ms/step - accuracy: 0.9714 - loss: 0.0800\n",
            "Epoch 27/40\n",
            "\u001b[1m54/54\u001b[0m \u001b[32m━━━━━━━━━━━━━━━━━━━━\u001b[0m\u001b[37m\u001b[0m \u001b[1m1s\u001b[0m 7ms/step - accuracy: 0.9971 - loss: 0.0115\n",
            "Epoch 28/40\n",
            "\u001b[1m54/54\u001b[0m \u001b[32m━━━━━━━━━━━━━━━━━━━━\u001b[0m\u001b[37m\u001b[0m \u001b[1m1s\u001b[0m 8ms/step - accuracy: 0.9981 - loss: 0.0043\n",
            "Epoch 29/40\n",
            "\u001b[1m54/54\u001b[0m \u001b[32m━━━━━━━━━━━━━━━━━━━━\u001b[0m\u001b[37m\u001b[0m \u001b[1m0s\u001b[0m 8ms/step - accuracy: 1.0000 - loss: 2.8590e-04\n",
            "Epoch 30/40\n",
            "\u001b[1m54/54\u001b[0m \u001b[32m━━━━━━━━━━━━━━━━━━━━\u001b[0m\u001b[37m\u001b[0m \u001b[1m0s\u001b[0m 9ms/step - accuracy: 1.0000 - loss: 1.3170e-04\n",
            "Epoch 31/40\n",
            "\u001b[1m54/54\u001b[0m \u001b[32m━━━━━━━━━━━━━━━━━━━━\u001b[0m\u001b[37m\u001b[0m \u001b[1m1s\u001b[0m 8ms/step - accuracy: 1.0000 - loss: 7.0010e-05\n",
            "Epoch 32/40\n",
            "\u001b[1m54/54\u001b[0m \u001b[32m━━━━━━━━━━━━━━━━━━━━\u001b[0m\u001b[37m\u001b[0m \u001b[1m1s\u001b[0m 8ms/step - accuracy: 1.0000 - loss: 4.3650e-05\n",
            "Epoch 33/40\n",
            "\u001b[1m54/54\u001b[0m \u001b[32m━━━━━━━━━━━━━━━━━━━━\u001b[0m\u001b[37m\u001b[0m \u001b[1m1s\u001b[0m 8ms/step - accuracy: 1.0000 - loss: 3.9202e-05\n",
            "Epoch 34/40\n",
            "\u001b[1m54/54\u001b[0m \u001b[32m━━━━━━━━━━━━━━━━━━━━\u001b[0m\u001b[37m\u001b[0m \u001b[1m1s\u001b[0m 7ms/step - accuracy: 1.0000 - loss: 2.7394e-05\n",
            "Epoch 35/40\n",
            "\u001b[1m54/54\u001b[0m \u001b[32m━━━━━━━━━━━━━━━━━━━━\u001b[0m\u001b[37m\u001b[0m \u001b[1m0s\u001b[0m 7ms/step - accuracy: 1.0000 - loss: 2.1867e-05\n",
            "Epoch 36/40\n",
            "\u001b[1m54/54\u001b[0m \u001b[32m━━━━━━━━━━━━━━━━━━━━\u001b[0m\u001b[37m\u001b[0m \u001b[1m0s\u001b[0m 7ms/step - accuracy: 1.0000 - loss: 1.5327e-05\n",
            "Epoch 37/40\n",
            "\u001b[1m54/54\u001b[0m \u001b[32m━━━━━━━━━━━━━━━━━━━━\u001b[0m\u001b[37m\u001b[0m \u001b[1m0s\u001b[0m 7ms/step - accuracy: 1.0000 - loss: 1.5483e-05\n",
            "Epoch 38/40\n",
            "\u001b[1m54/54\u001b[0m \u001b[32m━━━━━━━━━━━━━━━━━━━━\u001b[0m\u001b[37m\u001b[0m \u001b[1m1s\u001b[0m 7ms/step - accuracy: 1.0000 - loss: 1.0714e-05\n",
            "Epoch 39/40\n",
            "\u001b[1m54/54\u001b[0m \u001b[32m━━━━━━━━━━━━━━━━━━━━\u001b[0m\u001b[37m\u001b[0m \u001b[1m0s\u001b[0m 7ms/step - accuracy: 1.0000 - loss: 1.0206e-05\n",
            "Epoch 40/40\n",
            "\u001b[1m54/54\u001b[0m \u001b[32m━━━━━━━━━━━━━━━━━━━━\u001b[0m\u001b[37m\u001b[0m \u001b[1m1s\u001b[0m 10ms/step - accuracy: 1.0000 - loss: 8.2536e-06\n"
          ]
        },
        {
          "output_type": "execute_result",
          "data": {
            "text/plain": [
              "<keras.src.callbacks.history.History at 0x79fcf912c290>"
            ]
          },
          "metadata": {},
          "execution_count": 20
        }
      ]
    },
    {
      "cell_type": "markdown",
      "source": [
        "**Deep_NUP_Pred Train**"
      ],
      "metadata": {
        "id": "M4kms5sIgH2D"
      }
    },
    {
      "cell_type": "code",
      "source": [
        "# Evaluate the CNN+RNN model on the training set\n",
        "train_pred = cnn_rnn.predict(X_train_fold)\n",
        "train_pred_classes =  np.round(train_pred).astype(int)\n",
        "# Performance metrics for training set\n",
        "train_accuracy = accuracy_score(Y_train_fold, train_pred_classes)\n",
        "train_mcc = matthews_corrcoef(Y_train_fold, train_pred_classes)\n",
        "train_kappa = cohen_kappa_score(Y_train_fold, train_pred_classes)\n",
        "train_precision = precision_score(Y_train_fold, train_pred_classes)\n",
        "train_f1 = f1_score(Y_train_fold, train_pred_classes)\n",
        "train_cm = confusion_matrix(Y_train_fold, train_pred_classes)\n",
        "train_specificity = train_cm[0, 0] / (train_cm[0, 0] + train_cm[0, 1])\n",
        "train_sensitivity = train_cm[1, 1] / (train_cm[1, 0] + train_cm[1, 1])\n",
        "\n",
        "print(\"\\nTraining Metrics:\")\n",
        "print(f\"Accuracy: {train_accuracy}\")\n",
        "print(f\"Matthews Correlation Coefficient (MCC): {train_mcc}\")\n",
        "print(f\"Kappa: {train_kappa}\")\n",
        "print(f\"Precision: {train_precision}\")\n",
        "print(f\"F1 Score: {train_f1}\")\n",
        "print(f\"Specificity: {train_specificity}\")\n",
        "print(f\"Sensitivity: {train_sensitivity}\")"
      ],
      "metadata": {
        "colab": {
          "base_uri": "https://localhost:8080/"
        },
        "id": "cK1U-zhbgLu5",
        "outputId": "fdc726d1-f875-4119-b7f6-5e2b610ebdcf"
      },
      "execution_count": null,
      "outputs": [
        {
          "output_type": "stream",
          "name": "stdout",
          "text": [
            "\u001b[1m85/85\u001b[0m \u001b[32m━━━━━━━━━━━━━━━━━━━━\u001b[0m\u001b[37m\u001b[0m \u001b[1m2s\u001b[0m 12ms/step\n",
            "\n",
            "Training Metrics:\n",
            "Accuracy: 1.0\n",
            "Matthews Correlation Coefficient (MCC): 1.0\n",
            "Kappa: 1.0\n",
            "Precision: 1.0\n",
            "F1 Score: 1.0\n",
            "Specificity: 1.0\n",
            "Sensitivity: 1.0\n"
          ]
        }
      ]
    },
    {
      "cell_type": "markdown",
      "source": [
        "**Deep_NUP_Pred Test**"
      ],
      "metadata": {
        "id": "qv7PIvv2gV3h"
      }
    },
    {
      "cell_type": "code",
      "source": [
        "# Evaluate the GRU model on the test set\n",
        "test_pred = cnn_rnn.predict(X_test1)\n",
        "test_pred_classes = (test_pred > 0.5).astype(int)\n",
        "\n",
        "\n",
        "# Performance metrics for test set\n",
        "test_accuracy = accuracy_score(Y_test1, test_pred_classes)\n",
        "test_mcc = matthews_corrcoef(Y_test1, test_pred_classes)\n",
        "test_kappa = cohen_kappa_score(Y_test1, test_pred_classes)\n",
        "test_precision = precision_score(Y_test1, test_pred_classes)\n",
        "test_f1 = f1_score(Y_test1, test_pred_classes)\n",
        "test_cm = confusion_matrix(Y_test1, test_pred_classes)\n",
        "test_specificity = test_cm[0, 0] / (test_cm[0, 0] + test_cm[0, 1])\n",
        "test_sensitivity = test_cm[1, 1] / (test_cm[1, 0] + test_cm[1, 1])\n",
        "\n",
        "print(\"\\nTest Metrics:\")\n",
        "print(f\"Accuracy: {test_accuracy}\")\n",
        "print(f\"Matthews Correlation Coefficient (MCC): {test_mcc}\")\n",
        "print(f\"Kappa: {test_kappa}\")\n",
        "print(f\"Precision: {test_precision}\")\n",
        "print(f\"F1 Score: {test_f1}\")\n",
        "print(f\"Specificity: {test_specificity}\")\n",
        "print(f\"Sensitivity: {test_sensitivity}\")"
      ],
      "metadata": {
        "colab": {
          "base_uri": "https://localhost:8080/"
        },
        "id": "MjMpkJQdgZdw",
        "outputId": "2de797ca-4c8e-4378-dbd4-2c58357d414a"
      },
      "execution_count": null,
      "outputs": [
        {
          "output_type": "stream",
          "name": "stdout",
          "text": [
            "\u001b[1m46/46\u001b[0m \u001b[32m━━━━━━━━━━━━━━━━━━━━\u001b[0m\u001b[37m\u001b[0m \u001b[1m1s\u001b[0m 11ms/step\n",
            "\n",
            "Test Metrics:\n",
            "Accuracy: 0.954639175257732\n",
            "Matthews Correlation Coefficient (MCC): 0.9095296528414867\n",
            "Kappa: 0.9092510447044682\n",
            "Precision: 0.941747572815534\n",
            "F1 Score: 0.9536516853932584\n",
            "Specificity: 0.9441489361702128\n",
            "Sensitivity: 0.9658605974395448\n"
          ]
        }
      ]
    },
    {
      "cell_type": "markdown",
      "source": [
        "# **CNN+BiLsTM = CNBLM**"
      ],
      "metadata": {
        "id": "RHGRote3itEA"
      }
    },
    {
      "cell_type": "code",
      "source": [
        "model = Sequential()\n",
        "\n",
        "# CNN layers (feature extraction)\n",
        "model.add(Conv1D(filters=64, kernel_size=3, activation='relu', input_shape=(X_train1.shape[1], 1)))  # Adjust input shape\n",
        "model.add(MaxPooling1D(pool_size=2))\n",
        "model.add(Conv1D(filters=128, kernel_size=3, activation='relu'))\n",
        "model.add(MaxPooling1D(pool_size=2))\n",
        "model.add(Flatten())\n",
        "model.add(Reshape((-1, 128)))  # Adjust the dimension to match the output size from CNN\n",
        "# Add BiLSTM layer\n",
        "model.add(Bidirectional(LSTM(64, activation='relu')))  # BiLSTM for capturing bidirectional context\n",
        "model.add(Dense(128, activation='relu'))\n",
        "model.add(Dense(64, activation='relu'))\n",
        "model.add(Dense(1, activation='sigmoid'))  # For binary classification, change if needed for multi-class\n",
        "\n",
        "# Compile the model\n",
        "model.compile(optimizer='adam', loss='binary_crossentropy', metrics=['accuracy'])\n",
        "\n",
        "# Train the model\n",
        "model.fit(X_train1, Y_train1, epochs=40, batch_size=64)\n",
        "\n",
        "# Evaluate the CNN+BiLSTM model on the training set\n",
        "X_train_fold_reshaped = X_train_fold.reshape(-1, X_train_fold.shape[1], 1)  # Reshape for CNN input\n"
      ],
      "metadata": {
        "colab": {
          "base_uri": "https://localhost:8080/"
        },
        "id": "bT8nAlz8i0n3",
        "outputId": "cd758853-499d-42cb-d208-658b56cd95ac"
      },
      "execution_count": null,
      "outputs": [
        {
          "output_type": "stream",
          "name": "stdout",
          "text": [
            "Epoch 1/40\n"
          ]
        },
        {
          "output_type": "stream",
          "name": "stderr",
          "text": [
            "/usr/local/lib/python3.11/dist-packages/keras/src/layers/convolutional/base_conv.py:107: UserWarning: Do not pass an `input_shape`/`input_dim` argument to a layer. When using Sequential models, prefer using an `Input(shape)` object as the first layer in the model instead.\n",
            "  super().__init__(activity_regularizer=activity_regularizer, **kwargs)\n"
          ]
        },
        {
          "output_type": "stream",
          "name": "stdout",
          "text": [
            "\u001b[1m54/54\u001b[0m \u001b[32m━━━━━━━━━━━━━━━━━━━━\u001b[0m\u001b[37m\u001b[0m \u001b[1m11s\u001b[0m 55ms/step - accuracy: 0.5738 - loss: 0.6924\n",
            "Epoch 2/40\n",
            "\u001b[1m54/54\u001b[0m \u001b[32m━━━━━━━━━━━━━━━━━━━━\u001b[0m\u001b[37m\u001b[0m \u001b[1m5s\u001b[0m 13ms/step - accuracy: 0.6232 - loss: 0.6499\n",
            "Epoch 3/40\n",
            "\u001b[1m54/54\u001b[0m \u001b[32m━━━━━━━━━━━━━━━━━━━━\u001b[0m\u001b[37m\u001b[0m \u001b[1m1s\u001b[0m 10ms/step - accuracy: 0.7117 - loss: 0.5574\n",
            "Epoch 4/40\n",
            "\u001b[1m54/54\u001b[0m \u001b[32m━━━━━━━━━━━━━━━━━━━━\u001b[0m\u001b[37m\u001b[0m \u001b[1m1s\u001b[0m 11ms/step - accuracy: 0.7311 - loss: 0.5288\n",
            "Epoch 5/40\n",
            "\u001b[1m54/54\u001b[0m \u001b[32m━━━━━━━━━━━━━━━━━━━━\u001b[0m\u001b[37m\u001b[0m \u001b[1m1s\u001b[0m 11ms/step - accuracy: 0.7734 - loss: 0.4781\n",
            "Epoch 6/40\n",
            "\u001b[1m54/54\u001b[0m \u001b[32m━━━━━━━━━━━━━━━━━━━━\u001b[0m\u001b[37m\u001b[0m \u001b[1m1s\u001b[0m 11ms/step - accuracy: 0.7725 - loss: 0.4744\n",
            "Epoch 7/40\n",
            "\u001b[1m54/54\u001b[0m \u001b[32m━━━━━━━━━━━━━━━━━━━━\u001b[0m\u001b[37m\u001b[0m \u001b[1m1s\u001b[0m 10ms/step - accuracy: 0.7967 - loss: 0.4373\n",
            "Epoch 8/40\n",
            "\u001b[1m54/54\u001b[0m \u001b[32m━━━━━━━━━━━━━━━━━━━━\u001b[0m\u001b[37m\u001b[0m \u001b[1m1s\u001b[0m 10ms/step - accuracy: 0.7889 - loss: 0.4453\n",
            "Epoch 9/40\n",
            "\u001b[1m54/54\u001b[0m \u001b[32m━━━━━━━━━━━━━━━━━━━━\u001b[0m\u001b[37m\u001b[0m \u001b[1m1s\u001b[0m 12ms/step - accuracy: 0.8247 - loss: 0.3805\n",
            "Epoch 10/40\n",
            "\u001b[1m54/54\u001b[0m \u001b[32m━━━━━━━━━━━━━━━━━━━━\u001b[0m\u001b[37m\u001b[0m \u001b[1m1s\u001b[0m 10ms/step - accuracy: 0.8300 - loss: 0.3593\n",
            "Epoch 11/40\n",
            "\u001b[1m54/54\u001b[0m \u001b[32m━━━━━━━━━━━━━━━━━━━━\u001b[0m\u001b[37m\u001b[0m \u001b[1m1s\u001b[0m 11ms/step - accuracy: 0.8384 - loss: 0.3652\n",
            "Epoch 12/40\n",
            "\u001b[1m54/54\u001b[0m \u001b[32m━━━━━━━━━━━━━━━━━━━━\u001b[0m\u001b[37m\u001b[0m \u001b[1m1s\u001b[0m 10ms/step - accuracy: 0.8717 - loss: 0.2876\n",
            "Epoch 13/40\n",
            "\u001b[1m54/54\u001b[0m \u001b[32m━━━━━━━━━━━━━━━━━━━━\u001b[0m\u001b[37m\u001b[0m \u001b[1m1s\u001b[0m 10ms/step - accuracy: 0.8343 - loss: 0.3729\n",
            "Epoch 14/40\n",
            "\u001b[1m54/54\u001b[0m \u001b[32m━━━━━━━━━━━━━━━━━━━━\u001b[0m\u001b[37m\u001b[0m \u001b[1m1s\u001b[0m 10ms/step - accuracy: 0.8617 - loss: 0.3188\n",
            "Epoch 15/40\n",
            "\u001b[1m54/54\u001b[0m \u001b[32m━━━━━━━━━━━━━━━━━━━━\u001b[0m\u001b[37m\u001b[0m \u001b[1m1s\u001b[0m 10ms/step - accuracy: 0.8551 - loss: 0.3705\n",
            "Epoch 16/40\n",
            "\u001b[1m54/54\u001b[0m \u001b[32m━━━━━━━━━━━━━━━━━━━━\u001b[0m\u001b[37m\u001b[0m \u001b[1m1s\u001b[0m 10ms/step - accuracy: 0.9066 - loss: 0.2253\n",
            "Epoch 17/40\n",
            "\u001b[1m54/54\u001b[0m \u001b[32m━━━━━━━━━━━━━━━━━━━━\u001b[0m\u001b[37m\u001b[0m \u001b[1m1s\u001b[0m 10ms/step - accuracy: 0.9149 - loss: 0.2047\n",
            "Epoch 18/40\n",
            "\u001b[1m54/54\u001b[0m \u001b[32m━━━━━━━━━━━━━━━━━━━━\u001b[0m\u001b[37m\u001b[0m \u001b[1m1s\u001b[0m 10ms/step - accuracy: 0.9112 - loss: 0.2054\n",
            "Epoch 19/40\n",
            "\u001b[1m54/54\u001b[0m \u001b[32m━━━━━━━━━━━━━━━━━━━━\u001b[0m\u001b[37m\u001b[0m \u001b[1m1s\u001b[0m 10ms/step - accuracy: 0.9263 - loss: 0.1807\n",
            "Epoch 20/40\n",
            "\u001b[1m54/54\u001b[0m \u001b[32m━━━━━━━━━━━━━━━━━━━━\u001b[0m\u001b[37m\u001b[0m \u001b[1m1s\u001b[0m 10ms/step - accuracy: 0.9260 - loss: 0.1890\n",
            "Epoch 21/40\n",
            "\u001b[1m54/54\u001b[0m \u001b[32m━━━━━━━━━━━━━━━━━━━━\u001b[0m\u001b[37m\u001b[0m \u001b[1m1s\u001b[0m 10ms/step - accuracy: 0.9417 - loss: 0.1531\n",
            "Epoch 22/40\n",
            "\u001b[1m54/54\u001b[0m \u001b[32m━━━━━━━━━━━━━━━━━━━━\u001b[0m\u001b[37m\u001b[0m \u001b[1m1s\u001b[0m 10ms/step - accuracy: 0.9452 - loss: 0.1418\n",
            "Epoch 23/40\n",
            "\u001b[1m54/54\u001b[0m \u001b[32m━━━━━━━━━━━━━━━━━━━━\u001b[0m\u001b[37m\u001b[0m \u001b[1m1s\u001b[0m 11ms/step - accuracy: 0.9470 - loss: 0.2273\n",
            "Epoch 24/40\n",
            "\u001b[1m54/54\u001b[0m \u001b[32m━━━━━━━━━━━━━━━━━━━━\u001b[0m\u001b[37m\u001b[0m \u001b[1m1s\u001b[0m 12ms/step - accuracy: 0.7550 - loss: 0.5731\n",
            "Epoch 25/40\n",
            "\u001b[1m54/54\u001b[0m \u001b[32m━━━━━━━━━━━━━━━━━━━━\u001b[0m\u001b[37m\u001b[0m \u001b[1m1s\u001b[0m 11ms/step - accuracy: 0.8061 - loss: 0.4056\n",
            "Epoch 26/40\n",
            "\u001b[1m54/54\u001b[0m \u001b[32m━━━━━━━━━━━━━━━━━━━━\u001b[0m\u001b[37m\u001b[0m \u001b[1m1s\u001b[0m 10ms/step - accuracy: 0.8208 - loss: 0.3811\n",
            "Epoch 27/40\n",
            "\u001b[1m54/54\u001b[0m \u001b[32m━━━━━━━━━━━━━━━━━━━━\u001b[0m\u001b[37m\u001b[0m \u001b[1m1s\u001b[0m 10ms/step - accuracy: 0.8048 - loss: 0.4093\n",
            "Epoch 28/40\n",
            "\u001b[1m54/54\u001b[0m \u001b[32m━━━━━━━━━━━━━━━━━━━━\u001b[0m\u001b[37m\u001b[0m \u001b[1m1s\u001b[0m 10ms/step - accuracy: 0.8312 - loss: 0.3508\n",
            "Epoch 29/40\n",
            "\u001b[1m54/54\u001b[0m \u001b[32m━━━━━━━━━━━━━━━━━━━━\u001b[0m\u001b[37m\u001b[0m \u001b[1m1s\u001b[0m 10ms/step - accuracy: 0.8532 - loss: 0.3331\n",
            "Epoch 30/40\n",
            "\u001b[1m54/54\u001b[0m \u001b[32m━━━━━━━━━━━━━━━━━━━━\u001b[0m\u001b[37m\u001b[0m \u001b[1m1s\u001b[0m 10ms/step - accuracy: 0.8451 - loss: 0.3450\n",
            "Epoch 31/40\n",
            "\u001b[1m54/54\u001b[0m \u001b[32m━━━━━━━━━━━━━━━━━━━━\u001b[0m\u001b[37m\u001b[0m \u001b[1m1s\u001b[0m 10ms/step - accuracy: 0.8292 - loss: 0.3680\n",
            "Epoch 32/40\n",
            "\u001b[1m54/54\u001b[0m \u001b[32m━━━━━━━━━━━━━━━━━━━━\u001b[0m\u001b[37m\u001b[0m \u001b[1m1s\u001b[0m 10ms/step - accuracy: 0.8340 - loss: 0.3637\n",
            "Epoch 33/40\n",
            "\u001b[1m54/54\u001b[0m \u001b[32m━━━━━━━━━━━━━━━━━━━━\u001b[0m\u001b[37m\u001b[0m \u001b[1m1s\u001b[0m 10ms/step - accuracy: 0.8583 - loss: 0.3155\n",
            "Epoch 34/40\n",
            "\u001b[1m54/54\u001b[0m \u001b[32m━━━━━━━━━━━━━━━━━━━━\u001b[0m\u001b[37m\u001b[0m \u001b[1m1s\u001b[0m 10ms/step - accuracy: 0.8688 - loss: 0.2955\n",
            "Epoch 35/40\n",
            "\u001b[1m54/54\u001b[0m \u001b[32m━━━━━━━━━━━━━━━━━━━━\u001b[0m\u001b[37m\u001b[0m \u001b[1m1s\u001b[0m 10ms/step - accuracy: 0.8763 - loss: 0.2955\n",
            "Epoch 36/40\n",
            "\u001b[1m54/54\u001b[0m \u001b[32m━━━━━━━━━━━━━━━━━━━━\u001b[0m\u001b[37m\u001b[0m \u001b[1m1s\u001b[0m 10ms/step - accuracy: 0.8679 - loss: 0.3064\n",
            "Epoch 37/40\n",
            "\u001b[1m54/54\u001b[0m \u001b[32m━━━━━━━━━━━━━━━━━━━━\u001b[0m\u001b[37m\u001b[0m \u001b[1m1s\u001b[0m 10ms/step - accuracy: 0.8768 - loss: 0.2862\n",
            "Epoch 38/40\n",
            "\u001b[1m54/54\u001b[0m \u001b[32m━━━━━━━━━━━━━━━━━━━━\u001b[0m\u001b[37m\u001b[0m \u001b[1m1s\u001b[0m 10ms/step - accuracy: 0.8860 - loss: 0.2710\n",
            "Epoch 39/40\n",
            "\u001b[1m54/54\u001b[0m \u001b[32m━━━━━━━━━━━━━━━━━━━━\u001b[0m\u001b[37m\u001b[0m \u001b[1m1s\u001b[0m 10ms/step - accuracy: 0.8846 - loss: 0.2667\n",
            "Epoch 40/40\n",
            "\u001b[1m54/54\u001b[0m \u001b[32m━━━━━━━━━━━━━━━━━━━━\u001b[0m\u001b[37m\u001b[0m \u001b[1m1s\u001b[0m 10ms/step - accuracy: 0.8952 - loss: 0.2521\n"
          ]
        }
      ]
    },
    {
      "cell_type": "markdown",
      "source": [
        "**CNBLM Train**"
      ],
      "metadata": {
        "id": "I07c21hgjEJP"
      }
    },
    {
      "cell_type": "code",
      "source": [
        "# Make predictions on the training set\n",
        "train_pred = model.predict(X_train_fold_reshaped)  # Using the correct model 'model'\n",
        "train_pred_classes = np.round(train_pred).astype(int)\n",
        "\n",
        "# Performance metrics for training set\n",
        "train_accuracy = accuracy_score(Y_train_fold, train_pred_classes)\n",
        "train_mcc = matthews_corrcoef(Y_train_fold, train_pred_classes)\n",
        "train_kappa = cohen_kappa_score(Y_train_fold, train_pred_classes)\n",
        "train_precision = precision_score(Y_train_fold, train_pred_classes)\n",
        "train_f1 = f1_score(Y_train_fold, train_pred_classes)\n",
        "train_cm = confusion_matrix(Y_train_fold, train_pred_classes)\n",
        "train_specificity = train_cm[0, 0] / (train_cm[0, 0] + train_cm[0, 1])\n",
        "train_sensitivity = train_cm[1, 1] / (train_cm[1, 0] + train_cm[1, 1])\n",
        "\n",
        "print(\"\\nTraining Metrics:\")\n",
        "print(f\"Accuracy: {train_accuracy}\")\n",
        "print(f\"Matthews Correlation Coefficient (MCC): {train_mcc}\")\n",
        "print(f\"Kappa: {train_kappa}\")\n",
        "print(f\"Precision: {train_precision}\")\n",
        "print(f\"F1 Score: {train_f1}\")\n",
        "print(f\"Specificity: {train_specificity}\")\n",
        "print(f\"Sensitivity: {train_sensitivity}\")"
      ],
      "metadata": {
        "colab": {
          "base_uri": "https://localhost:8080/"
        },
        "id": "4e2_TAJpjJFW",
        "outputId": "0ceed2f0-e6ae-43cb-9513-415e800c4449"
      },
      "execution_count": null,
      "outputs": [
        {
          "output_type": "stream",
          "name": "stdout",
          "text": [
            "\u001b[1m85/85\u001b[0m \u001b[32m━━━━━━━━━━━━━━━━━━━━\u001b[0m\u001b[37m\u001b[0m \u001b[1m3s\u001b[0m 21ms/step\n",
            "\n",
            "Training Metrics:\n",
            "Accuracy: 0.8394698085419735\n",
            "Matthews Correlation Coefficient (MCC): 0.7058010959219806\n",
            "Kappa: 0.6791311817001894\n",
            "Precision: 0.7663768115942029\n",
            "F1 Score: 0.8584415584415584\n",
            "Specificity: 0.7038941954445261\n",
            "Sensitivity: 0.9756457564575646\n"
          ]
        }
      ]
    },
    {
      "cell_type": "markdown",
      "source": [
        "**CNBLM Test**"
      ],
      "metadata": {
        "id": "ZcRKOsGnjMIH"
      }
    },
    {
      "cell_type": "code",
      "source": [
        "# Evaluate the GRU model on the test set\n",
        "test_pred = model.predict(X_test1)\n",
        "test_pred_classes = (test_pred > 0.5).astype(int)\n",
        "\n",
        "\n",
        "# Performance metrics for test set\n",
        "test_accuracy = accuracy_score(Y_test1, test_pred_classes)\n",
        "test_mcc = matthews_corrcoef(Y_test1, test_pred_classes)\n",
        "test_kappa = cohen_kappa_score(Y_test1, test_pred_classes)\n",
        "test_precision = precision_score(Y_test1, test_pred_classes)\n",
        "test_f1 = f1_score(Y_test1, test_pred_classes)\n",
        "test_cm = confusion_matrix(Y_test1, test_pred_classes)\n",
        "test_specificity = test_cm[0, 0] / (test_cm[0, 0] + test_cm[0, 1])\n",
        "test_sensitivity = test_cm[1, 1] / (test_cm[1, 0] + test_cm[1, 1])\n",
        "\n",
        "print(\"\\nTest Metrics:\")\n",
        "print(f\"Accuracy: {test_accuracy}\")\n",
        "print(f\"Matthews Correlation Coefficient (MCC): {test_mcc}\")\n",
        "print(f\"Kappa: {test_kappa}\")\n",
        "print(f\"Precision: {test_precision}\")\n",
        "print(f\"F1 Score: {test_f1}\")\n",
        "print(f\"Specificity: {test_specificity}\")\n",
        "print(f\"Sensitivity: {test_sensitivity}\")"
      ],
      "metadata": {
        "colab": {
          "base_uri": "https://localhost:8080/"
        },
        "id": "7lg10eUejSDB",
        "outputId": "8467f579-e0de-412f-b72a-d3a092538165"
      },
      "execution_count": null,
      "outputs": [
        {
          "output_type": "stream",
          "name": "stdout",
          "text": [
            "\u001b[1m46/46\u001b[0m \u001b[32m━━━━━━━━━━━━━━━━━━━━\u001b[0m\u001b[37m\u001b[0m \u001b[1m1s\u001b[0m 19ms/step\n",
            "\n",
            "Test Metrics:\n",
            "Accuracy: 0.786254295532646\n",
            "Matthews Correlation Coefficient (MCC): 0.6067713595462567\n",
            "Kappa: 0.5765175244938621\n",
            "Precision: 0.7103004291845494\n",
            "F1 Score: 0.8097859327217125\n",
            "Specificity: 0.6409574468085106\n",
            "Sensitivity: 0.9416785206258891\n"
          ]
        }
      ]
    }
  ]
}